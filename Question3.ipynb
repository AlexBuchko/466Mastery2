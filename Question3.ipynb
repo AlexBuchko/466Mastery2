{
 "cells": [
  {
   "cell_type": "markdown",
   "metadata": {},
   "source": [
    "# Setting up"
   ]
  },
  {
   "cell_type": "code",
   "execution_count": 3,
   "metadata": {},
   "outputs": [
    {
     "data": {
      "text/html": [
       "<div>\n",
       "<style scoped>\n",
       "    .dataframe tbody tr th:only-of-type {\n",
       "        vertical-align: middle;\n",
       "    }\n",
       "\n",
       "    .dataframe tbody tr th {\n",
       "        vertical-align: top;\n",
       "    }\n",
       "\n",
       "    .dataframe thead th {\n",
       "        text-align: right;\n",
       "    }\n",
       "</style>\n",
       "<table border=\"1\" class=\"dataframe\">\n",
       "  <thead>\n",
       "    <tr style=\"text-align: right;\">\n",
       "      <th>movie</th>\n",
       "      <th>589</th>\n",
       "      <th>2571</th>\n",
       "      <th>593</th>\n",
       "      <th>110</th>\n",
       "    </tr>\n",
       "    <tr>\n",
       "      <th>userID</th>\n",
       "      <th></th>\n",
       "      <th></th>\n",
       "      <th></th>\n",
       "      <th></th>\n",
       "    </tr>\n",
       "  </thead>\n",
       "  <tbody>\n",
       "    <tr>\n",
       "      <th>610</th>\n",
       "      <td>0.0</td>\n",
       "      <td>0.928571</td>\n",
       "      <td>0.428571</td>\n",
       "      <td>0.428571</td>\n",
       "    </tr>\n",
       "    <tr>\n",
       "      <th>247</th>\n",
       "      <td>-0.6</td>\n",
       "      <td>0.600000</td>\n",
       "      <td>-0.100000</td>\n",
       "      <td>-0.100000</td>\n",
       "    </tr>\n",
       "    <tr>\n",
       "      <th>580</th>\n",
       "      <td>0.0</td>\n",
       "      <td>0.666667</td>\n",
       "      <td>0.166667</td>\n",
       "      <td>0.166667</td>\n",
       "    </tr>\n",
       "    <tr>\n",
       "      <th>304</th>\n",
       "      <td>0.4</td>\n",
       "      <td>-0.600000</td>\n",
       "      <td>-0.600000</td>\n",
       "      <td>0.400000</td>\n",
       "    </tr>\n",
       "    <tr>\n",
       "      <th>391</th>\n",
       "      <td>-0.4</td>\n",
       "      <td>0.600000</td>\n",
       "      <td>-1.400000</td>\n",
       "      <td>0.600000</td>\n",
       "    </tr>\n",
       "  </tbody>\n",
       "</table>\n",
       "</div>"
      ],
      "text/plain": [
       "movie   589       2571      593       110 \n",
       "userID                                    \n",
       "610      0.0  0.928571  0.428571  0.428571\n",
       "247     -0.6  0.600000 -0.100000 -0.100000\n",
       "580      0.0  0.666667  0.166667  0.166667\n",
       "304      0.4 -0.600000 -0.600000  0.400000\n",
       "391     -0.4  0.600000 -1.400000  0.600000"
      ]
     },
     "execution_count": 3,
     "metadata": {},
     "output_type": "execute_result"
    }
   ],
   "source": [
    "import numpy as np\n",
    "import pandas as pd\n",
    "\n",
    "#Defining variables\n",
    "target_user = 610\n",
    "target_movie = 589\n",
    "N = 2\n",
    "\n",
    "#\"importing\" data\n",
    "data = {\n",
    "    610: [np.NaN, 0.928571, 0.428571, 0.428571],\n",
    "    247: [-0.6, 0.600000, -0.100000, -0.100000],\n",
    "    580: [np.NaN, 0.666667, 0.166667, 0.166667],\n",
    "    304: [0.4, -0.600000, -0.600000, 0.400000],\n",
    "    391: [-0.4, 0.600000, -1.400000, 0.600000]\n",
    "}\n",
    "\n",
    "#preprocessing\n",
    "df = pd.DataFrame(data).T\n",
    "df = df.rename(columns={0: 589, 1: 2571, 2: 593, 3: 110})\n",
    "df = df.fillna(0)\n",
    "df.index.name = \"userID\"\n",
    "df.columns.name = \"movie\"\n",
    "\n",
    "#displaying Data\n",
    "df"
   ]
  },
  {
   "cell_type": "markdown",
   "metadata": {},
   "source": [
    "# Preforming User-User filtering"
   ]
  },
  {
   "cell_type": "code",
   "execution_count": 4,
   "metadata": {},
   "outputs": [
    {
     "data": {
      "text/plain": [
       "-0.5"
      ]
     },
     "execution_count": 4,
     "metadata": {},
     "output_type": "execute_result"
    }
   ],
   "source": [
    "x = df.loc[target_user]\n",
    "user_df = df.drop(target_user)\n",
    "#grabbing similiar users\n",
    "user_sims = user_df[user_df.loc[:, target_movie] != 0].apply(lambda y: (y.values*x.values).sum()/(np.sqrt((y**2).sum())*np.sqrt((x**2).sum())),axis=1)\n",
    "#grabbing top 2 users\n",
    "sorted_user_sims = user_sims.sort_values()[::-1]\n",
    "N_user_sims = sorted_user_sims.iloc[:N]\n",
    "\n",
    "#looking up their rating of the target movie and averaging\n",
    "user_ids = N_user_sims.index\n",
    "user_ans = (df.loc[user_ids, target_movie].mean())\n",
    "\n",
    "#displaying ans\n",
    "user_ans"
   ]
  },
  {
   "cell_type": "markdown",
   "metadata": {},
   "source": [
    "Our prediction for user-user filtering  is -0.5"
   ]
  },
  {
   "cell_type": "markdown",
   "metadata": {},
   "source": [
    "# Preforming Item-Item Filtering"
   ]
  },
  {
   "cell_type": "code",
   "execution_count": 10,
   "metadata": {},
   "outputs": [
    {
     "data": {
      "text/plain": [
       "-0.0009523999999999866"
      ]
     },
     "execution_count": 10,
     "metadata": {},
     "output_type": "execute_result"
    }
   ],
   "source": [
    "#going to need to invert the DF\n",
    "item_df = df.T\n",
    "x = item_df.loc[target_movie]\n",
    "item_df = item_df.drop(target_movie)\n",
    "\n",
    "#grabbing similar movies to the item\n",
    "movie_sims =  item_df.apply(lambda y: (y.values*x.values).sum()/(np.sqrt((y**2).sum())*np.sqrt((x**2).sum())),axis=1)\n",
    "sorted_movie_sims = movie_sims.sort_values()[::-1]\n",
    "N_movie_sims = sorted_movie_sims.iloc[:N]\n",
    "\n",
    "#figuring out the average rating of movies similar to this movie\n",
    "movie_ids = N_movie_sims.index\n",
    "ans = item_df.loc[movie_ids].stack().mean()\n",
    "\n",
    "#displaying ans\n",
    "ans"
   ]
  },
  {
   "cell_type": "markdown",
   "metadata": {},
   "source": [
    "Our prediction for item-item filtering is -0.0009523999999999866"
   ]
  }
 ],
 "metadata": {
  "kernelspec": {
   "display_name": "Python 3.10.6 ('Main')",
   "language": "python",
   "name": "python3"
  },
  "language_info": {
   "codemirror_mode": {
    "name": "ipython",
    "version": 3
   },
   "file_extension": ".py",
   "mimetype": "text/x-python",
   "name": "python",
   "nbconvert_exporter": "python",
   "pygments_lexer": "ipython3",
   "version": "3.10.6"
  },
  "orig_nbformat": 4,
  "vscode": {
   "interpreter": {
    "hash": "c1b7983f5379a74aaa065db4f4f1794df776760a88f2be34c33f726ce7ee9d88"
   }
  }
 },
 "nbformat": 4,
 "nbformat_minor": 2
}
