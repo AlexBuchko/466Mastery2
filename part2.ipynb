{
 "cells": [
  {
   "cell_type": "code",
   "execution_count": 81,
   "metadata": {},
   "outputs": [],
   "source": [
    "import numpy as np\n",
    "import pandas as pd\n",
    "import networkx as nx"
   ]
  },
  {
   "cell_type": "markdown",
   "metadata": {},
   "source": [
    "Entering in Data"
   ]
  },
  {
   "cell_type": "code",
   "execution_count": 82,
   "metadata": {},
   "outputs": [
    {
     "data": {
      "text/html": [
       "<div>\n",
       "<style scoped>\n",
       "    .dataframe tbody tr th:only-of-type {\n",
       "        vertical-align: middle;\n",
       "    }\n",
       "\n",
       "    .dataframe tbody tr th {\n",
       "        vertical-align: top;\n",
       "    }\n",
       "\n",
       "    .dataframe thead th {\n",
       "        text-align: right;\n",
       "    }\n",
       "</style>\n",
       "<table border=\"1\" class=\"dataframe\">\n",
       "  <thead>\n",
       "    <tr style=\"text-align: right;\">\n",
       "      <th></th>\n",
       "      <th>x1</th>\n",
       "      <th>x2</th>\n",
       "    </tr>\n",
       "  </thead>\n",
       "  <tbody>\n",
       "    <tr>\n",
       "      <th>0</th>\n",
       "      <td>1</td>\n",
       "      <td>-3.5</td>\n",
       "    </tr>\n",
       "    <tr>\n",
       "      <th>1</th>\n",
       "      <td>2</td>\n",
       "      <td>-5.5</td>\n",
       "    </tr>\n",
       "    <tr>\n",
       "      <th>2</th>\n",
       "      <td>3</td>\n",
       "      <td>-12.0</td>\n",
       "    </tr>\n",
       "  </tbody>\n",
       "</table>\n",
       "</div>"
      ],
      "text/plain": [
       "   x1    x2\n",
       "0   1  -3.5\n",
       "1   2  -5.5\n",
       "2   3 -12.0"
      ]
     },
     "execution_count": 82,
     "metadata": {},
     "output_type": "execute_result"
    }
   ],
   "source": [
    "X = pd.DataFrame([[1,-3.5],[2,-5.5],[3,-12]],columns=[\"x1\",\"x2\"])\n",
    "X   "
   ]
  },
  {
   "cell_type": "markdown",
   "metadata": {},
   "source": [
    "# 1 - Finding Covariance Matrix"
   ]
  },
  {
   "cell_type": "code",
   "execution_count": 103,
   "metadata": {},
   "outputs": [
    {
     "data": {
      "text/html": [
       "<div>\n",
       "<style scoped>\n",
       "    .dataframe tbody tr th:only-of-type {\n",
       "        vertical-align: middle;\n",
       "    }\n",
       "\n",
       "    .dataframe tbody tr th {\n",
       "        vertical-align: top;\n",
       "    }\n",
       "\n",
       "    .dataframe thead th {\n",
       "        text-align: right;\n",
       "    }\n",
       "</style>\n",
       "<table border=\"1\" class=\"dataframe\">\n",
       "  <thead>\n",
       "    <tr style=\"text-align: right;\">\n",
       "      <th></th>\n",
       "      <th>x1</th>\n",
       "      <th>x2</th>\n",
       "    </tr>\n",
       "  </thead>\n",
       "  <tbody>\n",
       "    <tr>\n",
       "      <th>0</th>\n",
       "      <td>1.00</td>\n",
       "      <td>-4.25</td>\n",
       "    </tr>\n",
       "    <tr>\n",
       "      <th>1</th>\n",
       "      <td>-4.25</td>\n",
       "      <td>19.75</td>\n",
       "    </tr>\n",
       "  </tbody>\n",
       "</table>\n",
       "</div>"
      ],
      "text/plain": [
       "     x1     x2\n",
       "0  1.00  -4.25\n",
       "1 -4.25  19.75"
      ]
     },
     "execution_count": 103,
     "metadata": {},
     "output_type": "execute_result"
    }
   ],
   "source": [
    "#averaging\n",
    "x1_av = X['x1'].mean()\n",
    "x2_av = X[\"x2\"].mean()\n",
    "\n",
    "#finding variances\n",
    "var_x1 = ((X[\"x1\"] - x1_av) ** 2).sum() / (len(X) - 1)\n",
    "var_x2 = ((X[\"x2\"] - x2_av) ** 2).sum() / (len(X) - 1)\n",
    "\n",
    "#finding covariance\n",
    "cov = ((X[\"x2\"] - x2_av) * (X[\"x1\"] - x1_av)).sum() / (len(X) - 1)\n",
    "\n",
    "#putting it all together\n",
    "data = {\"x1\": [var_x1, cov], \"x2\": [cov, var_x2]}\n",
    "A = pd.DataFrame(data, columns=[\"x1\", \"x2\"])\n",
    "\n",
    "#displaying answer\n",
    "A"
   ]
  },
  {
   "cell_type": "markdown",
   "metadata": {},
   "source": [
    "# 2 - Finding EigenValues"
   ]
  },
  {
   "cell_type": "code",
   "execution_count": 102,
   "metadata": {},
   "outputs": [
    {
     "data": {
      "text/plain": [
       "(20.66835343802009, 0.08164656197991071)"
      ]
     },
     "execution_count": 102,
     "metadata": {},
     "output_type": "execute_result"
    }
   ],
   "source": [
    "#grabbing components\n",
    "a = A.iloc[0,0]\n",
    "b = A.iloc[0,1]\n",
    "c = A.iloc[1,0]\n",
    "d = A.iloc[1,1]\n",
    "\n",
    "#getting coeffcients\n",
    "coef1 = 1\n",
    "coef2 = -1 * (a + d)\n",
    "coef3 = ((a * d) - (b * c))\n",
    "\n",
    "#using quadratic formula\n",
    "eval1 = ((-1 * coef2) + np.sqrt(coef2 ** 2 - (4 * coef1 * coef3))) / (2 * coef1)\n",
    "eval2 = ((-1 * coef2) - np.sqrt(coef2 ** 2 - (4 * coef1 * coef3))) / (2 * coef1)\n",
    "\n",
    "#displaying answer\n",
    "eval1, eval2"
   ]
  },
  {
   "cell_type": "markdown",
   "metadata": {},
   "source": [
    "checking with numpy:"
   ]
  },
  {
   "cell_type": "code",
   "execution_count": 88,
   "metadata": {},
   "outputs": [
    {
     "data": {
      "text/plain": [
       "(array([ 0.08164656, 20.66835344]),\n",
       " array([[-0.97744102,  0.21120855],\n",
       "        [-0.21120855, -0.97744102]]))"
      ]
     },
     "execution_count": 88,
     "metadata": {},
     "output_type": "execute_result"
    }
   ],
   "source": [
    "np.linalg.eig(A.values)"
   ]
  },
  {
   "cell_type": "markdown",
   "metadata": {},
   "source": [
    "Sweet it worked!"
   ]
  },
  {
   "cell_type": "markdown",
   "metadata": {},
   "source": [
    "# 3 - Finding Variance Explained"
   ]
  },
  {
   "cell_type": "code",
   "execution_count": 104,
   "metadata": {},
   "outputs": [
    {
     "data": {
      "text/plain": [
       "(0.9960652259286791, 0.003934774071320998)"
      ]
     },
     "execution_count": 104,
     "metadata": {},
     "output_type": "execute_result"
    }
   ],
   "source": [
    "#calculating\n",
    "variance_explained1 = eval1 / (eval1 + eval2)\n",
    "variance_explained2 = eval2 / (eval1 + eval2)\n",
    "\n",
    "#displaying\n",
    "variance_explained1, variance_explained2"
   ]
  },
  {
   "cell_type": "markdown",
   "metadata": {},
   "source": [
    "# 4 - finding the Eigen vector"
   ]
  },
  {
   "cell_type": "markdown",
   "metadata": {},
   "source": [
    "For the first equation, we have \n",
    "$$A_{00} * v_1 + A_{01} * v_{2} = 0$$\n",
    "then\n",
    "$$v_2 = \\frac{-A_{00} * v_1}{A_{01}}$$\n",
    "Lets always assume that the first component of the egein vector is one. That is $v_1 = 1$"
   ]
  },
  {
   "cell_type": "code",
   "execution_count": 100,
   "metadata": {},
   "outputs": [],
   "source": [
    "def get_eigen_vector(A, eigen_val):\n",
    "    A = A.copy().to_numpy()\n",
    "    A_i = A - (np.identity(2) * eigen_val)\n",
    "    v_1 = 1\n",
    "    v_2 = (-1 * A_i[0][0] * v_1) / A_i[0][1]\n",
    "\n",
    "    #normalzing\n",
    "    v = pd.Series([v_1, v_2])\n",
    "    v = v / np.sqrt((v ** 2).sum())\n",
    "    return v\n"
   ]
  },
  {
   "cell_type": "code",
   "execution_count": 101,
   "metadata": {},
   "outputs": [
    {
     "name": "stdout",
     "output_type": "stream",
     "text": [
      "0    0.211209\n",
      "1   -0.977441\n",
      "dtype: float64\n",
      "0    0.977441\n",
      "1    0.211209\n",
      "dtype: float64\n"
     ]
    }
   ],
   "source": [
    "evec_1 = get_eigen_vector(A, eval1)\n",
    "evec_2 = get_eigen_vector(A, eval2)\n",
    "print(evec_1)\n",
    "print(evec_2)"
   ]
  },
  {
   "cell_type": "markdown",
   "metadata": {},
   "source": [
    "Sweet this matches the numpy output!"
   ]
  },
  {
   "cell_type": "markdown",
   "metadata": {},
   "source": [
    "# 5 - Applying onto Data"
   ]
  },
  {
   "cell_type": "code",
   "execution_count": 107,
   "metadata": {},
   "outputs": [
    {
     "data": {
      "text/plain": [
       "array([ 3.63225212,  5.79834271, 12.36291789])"
      ]
     },
     "execution_count": 107,
     "metadata": {},
     "output_type": "execute_result"
    }
   ],
   "source": [
    "#Since eval1 is the biggest eigenvalue, we'll use that one\n",
    "#all we have to do is take the dot product of X and our EigenVector\n",
    "ans5 = np.dot(X, evec_1)\n",
    "#displaying\n",
    "ans5"
   ]
  }
 ],
 "metadata": {
  "kernelspec": {
   "display_name": "Python 3.10.6 ('Main10')",
   "language": "python",
   "name": "python3"
  },
  "language_info": {
   "codemirror_mode": {
    "name": "ipython",
    "version": 3
   },
   "file_extension": ".py",
   "mimetype": "text/x-python",
   "name": "python",
   "nbconvert_exporter": "python",
   "pygments_lexer": "ipython3",
   "version": "3.10.6"
  },
  "orig_nbformat": 4,
  "vscode": {
   "interpreter": {
    "hash": "40653dad27eb0252400c8e6bbf6cbe7329bda1d0b0ca7424b832f037e26face8"
   }
  }
 },
 "nbformat": 4,
 "nbformat_minor": 2
}
