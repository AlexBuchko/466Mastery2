{
 "cells": [
  {
   "cell_type": "markdown",
   "metadata": {},
   "source": [
    "# Lab 5\n",
    "\n",
    "## Ensemble Learning\n",
    "\n",
    "For this lab, we will implement a bagging and boosting. Due to the increased simplicity when implementing regression with boosted trees over classification, we will stick to regression for this lab. Classification is a straightforward extension.\n",
    "\n",
    "There are two main exercises and questions in the lab. "
   ]
  },
  {
   "cell_type": "code",
   "execution_count": 44,
   "metadata": {},
   "outputs": [],
   "source": [
    "from pathlib import Path\n",
    "home = str(Path.home()) # all other paths are relative to this path. change to something else if this is not the case on your system"
   ]
  },
  {
   "cell_type": "code",
   "execution_count": 45,
   "metadata": {},
   "outputs": [
    {
     "name": "stdout",
     "output_type": "stream",
     "text": [
      "The autoreload extension is already loaded. To reload it, use:\n",
      "  %reload_ext autoreload\n"
     ]
    }
   ],
   "source": [
    "%load_ext autoreload\n",
    "%autoreload 2\n",
    "\n",
    "# make sure your run the cell above before running this\n",
    "import Lab5_helper"
   ]
  },
  {
   "cell_type": "markdown",
   "metadata": {},
   "source": [
    "For developing this lab, we can our three gene dataset. We will try to predict the value of ESR1 from the other two genes."
   ]
  },
  {
   "cell_type": "code",
   "execution_count": 46,
   "metadata": {},
   "outputs": [
    {
     "data": {
      "text/html": [
       "<div>\n",
       "<style scoped>\n",
       "    .dataframe tbody tr th:only-of-type {\n",
       "        vertical-align: middle;\n",
       "    }\n",
       "\n",
       "    .dataframe tbody tr th {\n",
       "        vertical-align: top;\n",
       "    }\n",
       "\n",
       "    .dataframe thead th {\n",
       "        text-align: right;\n",
       "    }\n",
       "</style>\n",
       "<table border=\"1\" class=\"dataframe\">\n",
       "  <thead>\n",
       "    <tr style=\"text-align: right;\">\n",
       "      <th></th>\n",
       "      <th>ESR1</th>\n",
       "      <th>AURKA</th>\n",
       "      <th>ERBB2</th>\n",
       "      <th>Subtype</th>\n",
       "    </tr>\n",
       "  </thead>\n",
       "  <tbody>\n",
       "    <tr>\n",
       "      <th>0</th>\n",
       "      <td>0.804501</td>\n",
       "      <td>0.264356</td>\n",
       "      <td>6.941677</td>\n",
       "      <td>LumA</td>\n",
       "    </tr>\n",
       "    <tr>\n",
       "      <th>1</th>\n",
       "      <td>0.163597</td>\n",
       "      <td>0.589052</td>\n",
       "      <td>6.551394</td>\n",
       "      <td>Basal</td>\n",
       "    </tr>\n",
       "    <tr>\n",
       "      <th>2</th>\n",
       "      <td>0.569347</td>\n",
       "      <td>0.189531</td>\n",
       "      <td>7.056530</td>\n",
       "      <td>LumA</td>\n",
       "    </tr>\n",
       "    <tr>\n",
       "      <th>3</th>\n",
       "      <td>0.847584</td>\n",
       "      <td>0.264849</td>\n",
       "      <td>7.028625</td>\n",
       "      <td>LumB</td>\n",
       "    </tr>\n",
       "    <tr>\n",
       "      <th>4</th>\n",
       "      <td>0.442474</td>\n",
       "      <td>0.526040</td>\n",
       "      <td>8.783604</td>\n",
       "      <td>LumB</td>\n",
       "    </tr>\n",
       "  </tbody>\n",
       "</table>\n",
       "</div>"
      ],
      "text/plain": [
       "       ESR1     AURKA     ERBB2 Subtype\n",
       "0  0.804501  0.264356  6.941677    LumA\n",
       "1  0.163597  0.589052  6.551394   Basal\n",
       "2  0.569347  0.189531  7.056530    LumA\n",
       "3  0.847584  0.264849  7.028625    LumB\n",
       "4  0.442474  0.526040  8.783604    LumB"
      ]
     },
     "execution_count": 46,
     "metadata": {},
     "output_type": "execute_result"
    }
   ],
   "source": [
    "import pandas as pd\n",
    "import numpy as np\n",
    "\n",
    "df = pd.read_csv(\n",
    "    f\"{home}/csc-466-student/data/breast_cancer_three_gene.csv\",index_col=0\n",
    ")\n",
    "df.head()"
   ]
  },
  {
   "cell_type": "markdown",
   "metadata": {},
   "source": [
    "We need to do some simple preprocessing before our neural network can deal with this data. "
   ]
  },
  {
   "cell_type": "code",
   "execution_count": 47,
   "metadata": {},
   "outputs": [
    {
     "data": {
      "text/html": [
       "<div>\n",
       "<style scoped>\n",
       "    .dataframe tbody tr th:only-of-type {\n",
       "        vertical-align: middle;\n",
       "    }\n",
       "\n",
       "    .dataframe tbody tr th {\n",
       "        vertical-align: top;\n",
       "    }\n",
       "\n",
       "    .dataframe thead th {\n",
       "        text-align: right;\n",
       "    }\n",
       "</style>\n",
       "<table border=\"1\" class=\"dataframe\">\n",
       "  <thead>\n",
       "    <tr style=\"text-align: right;\">\n",
       "      <th></th>\n",
       "      <th>ESR1</th>\n",
       "      <th>AURKA</th>\n",
       "      <th>ERBB2</th>\n",
       "    </tr>\n",
       "  </thead>\n",
       "  <tbody>\n",
       "    <tr>\n",
       "      <th>0</th>\n",
       "      <td>0.804501</td>\n",
       "      <td>0.264356</td>\n",
       "      <td>6.941677</td>\n",
       "    </tr>\n",
       "    <tr>\n",
       "      <th>1</th>\n",
       "      <td>0.163597</td>\n",
       "      <td>0.589052</td>\n",
       "      <td>6.551394</td>\n",
       "    </tr>\n",
       "    <tr>\n",
       "      <th>2</th>\n",
       "      <td>0.569347</td>\n",
       "      <td>0.189531</td>\n",
       "      <td>7.056530</td>\n",
       "    </tr>\n",
       "    <tr>\n",
       "      <th>3</th>\n",
       "      <td>0.847584</td>\n",
       "      <td>0.264849</td>\n",
       "      <td>7.028625</td>\n",
       "    </tr>\n",
       "    <tr>\n",
       "      <th>4</th>\n",
       "      <td>0.442474</td>\n",
       "      <td>0.526040</td>\n",
       "      <td>8.783604</td>\n",
       "    </tr>\n",
       "    <tr>\n",
       "      <th>...</th>\n",
       "      <td>...</td>\n",
       "      <td>...</td>\n",
       "      <td>...</td>\n",
       "    </tr>\n",
       "    <tr>\n",
       "      <th>2128</th>\n",
       "      <td>0.635455</td>\n",
       "      <td>0.143977</td>\n",
       "      <td>7.159443</td>\n",
       "    </tr>\n",
       "    <tr>\n",
       "      <th>2129</th>\n",
       "      <td>0.632849</td>\n",
       "      <td>0.258203</td>\n",
       "      <td>7.145417</td>\n",
       "    </tr>\n",
       "    <tr>\n",
       "      <th>2130</th>\n",
       "      <td>0.662344</td>\n",
       "      <td>0.243027</td>\n",
       "      <td>6.936228</td>\n",
       "    </tr>\n",
       "    <tr>\n",
       "      <th>2131</th>\n",
       "      <td>0.086119</td>\n",
       "      <td>0.479997</td>\n",
       "      <td>7.671082</td>\n",
       "    </tr>\n",
       "    <tr>\n",
       "      <th>2132</th>\n",
       "      <td>0.684853</td>\n",
       "      <td>0.295967</td>\n",
       "      <td>7.045126</td>\n",
       "    </tr>\n",
       "  </tbody>\n",
       "</table>\n",
       "<p>2133 rows × 3 columns</p>\n",
       "</div>"
      ],
      "text/plain": [
       "          ESR1     AURKA     ERBB2\n",
       "0     0.804501  0.264356  6.941677\n",
       "1     0.163597  0.589052  6.551394\n",
       "2     0.569347  0.189531  7.056530\n",
       "3     0.847584  0.264849  7.028625\n",
       "4     0.442474  0.526040  8.783604\n",
       "...        ...       ...       ...\n",
       "2128  0.635455  0.143977  7.159443\n",
       "2129  0.632849  0.258203  7.145417\n",
       "2130  0.662344  0.243027  6.936228\n",
       "2131  0.086119  0.479997  7.671082\n",
       "2132  0.684853  0.295967  7.045126\n",
       "\n",
       "[2133 rows x 3 columns]"
      ]
     },
     "execution_count": 47,
     "metadata": {},
     "output_type": "execute_result"
    }
   ],
   "source": [
    "X = df.drop('Subtype',axis=1)#.dropna()\n",
    "X"
   ]
  },
  {
   "cell_type": "code",
   "execution_count": 48,
   "metadata": {},
   "outputs": [
    {
     "data": {
      "text/html": [
       "<div>\n",
       "<style scoped>\n",
       "    .dataframe tbody tr th:only-of-type {\n",
       "        vertical-align: middle;\n",
       "    }\n",
       "\n",
       "    .dataframe tbody tr th {\n",
       "        vertical-align: top;\n",
       "    }\n",
       "\n",
       "    .dataframe thead th {\n",
       "        text-align: right;\n",
       "    }\n",
       "</style>\n",
       "<table border=\"1\" class=\"dataframe\">\n",
       "  <thead>\n",
       "    <tr style=\"text-align: right;\">\n",
       "      <th></th>\n",
       "      <th>AURKA</th>\n",
       "      <th>ERBB2</th>\n",
       "    </tr>\n",
       "  </thead>\n",
       "  <tbody>\n",
       "    <tr>\n",
       "      <th>0</th>\n",
       "      <td>0.264356</td>\n",
       "      <td>6.941677</td>\n",
       "    </tr>\n",
       "    <tr>\n",
       "      <th>1</th>\n",
       "      <td>0.589052</td>\n",
       "      <td>6.551394</td>\n",
       "    </tr>\n",
       "    <tr>\n",
       "      <th>2</th>\n",
       "      <td>0.189531</td>\n",
       "      <td>7.056530</td>\n",
       "    </tr>\n",
       "    <tr>\n",
       "      <th>3</th>\n",
       "      <td>0.264849</td>\n",
       "      <td>7.028625</td>\n",
       "    </tr>\n",
       "    <tr>\n",
       "      <th>4</th>\n",
       "      <td>0.526040</td>\n",
       "      <td>8.783604</td>\n",
       "    </tr>\n",
       "    <tr>\n",
       "      <th>...</th>\n",
       "      <td>...</td>\n",
       "      <td>...</td>\n",
       "    </tr>\n",
       "    <tr>\n",
       "      <th>2128</th>\n",
       "      <td>0.143977</td>\n",
       "      <td>7.159443</td>\n",
       "    </tr>\n",
       "    <tr>\n",
       "      <th>2129</th>\n",
       "      <td>0.258203</td>\n",
       "      <td>7.145417</td>\n",
       "    </tr>\n",
       "    <tr>\n",
       "      <th>2130</th>\n",
       "      <td>0.243027</td>\n",
       "      <td>6.936228</td>\n",
       "    </tr>\n",
       "    <tr>\n",
       "      <th>2131</th>\n",
       "      <td>0.479997</td>\n",
       "      <td>7.671082</td>\n",
       "    </tr>\n",
       "    <tr>\n",
       "      <th>2132</th>\n",
       "      <td>0.295967</td>\n",
       "      <td>7.045126</td>\n",
       "    </tr>\n",
       "  </tbody>\n",
       "</table>\n",
       "<p>2133 rows × 2 columns</p>\n",
       "</div>"
      ],
      "text/plain": [
       "         AURKA     ERBB2\n",
       "0     0.264356  6.941677\n",
       "1     0.589052  6.551394\n",
       "2     0.189531  7.056530\n",
       "3     0.264849  7.028625\n",
       "4     0.526040  8.783604\n",
       "...        ...       ...\n",
       "2128  0.143977  7.159443\n",
       "2129  0.258203  7.145417\n",
       "2130  0.243027  6.936228\n",
       "2131  0.479997  7.671082\n",
       "2132  0.295967  7.045126\n",
       "\n",
       "[2133 rows x 2 columns]"
      ]
     },
     "execution_count": 48,
     "metadata": {},
     "output_type": "execute_result"
    }
   ],
   "source": [
    "t = X['ESR1']\n",
    "X2 = pd.get_dummies(X.drop('ESR1',axis=1))\n",
    "X2"
   ]
  },
  {
   "cell_type": "markdown",
   "metadata": {},
   "source": [
    "#### Exercise 1\n",
    "Implement bagging using regression trees as the (weak) individual learner. You should be able to reach a similar accuray to my implementation."
   ]
  },
  {
   "cell_type": "code",
   "execution_count": 49,
   "metadata": {},
   "outputs": [
    {
     "name": "stdout",
     "output_type": "stream",
     "text": [
      "Our prediction for Fare is off by 0.16748799642382256\n"
     ]
    }
   ],
   "source": [
    "import numpy as np\n",
    "learner = Lab5_helper.get_learner(X2,t) # Here is how to get a single weak learner to help build your ensembles\n",
    "y = learner.predict(X2) # As usual, here is how to get predictions\n",
    "RMSE = np.sqrt(((y-t)**2).sum()/len(t)) # Here is a sample calculation of the root mean squared error\n",
    "print('Our prediction for Fare is off by',RMSE)"
   ]
  },
  {
   "cell_type": "code",
   "execution_count": 50,
   "metadata": {},
   "outputs": [
    {
     "data": {
      "text/plain": [
       "0.22841074943260242"
      ]
     },
     "execution_count": 50,
     "metadata": {},
     "output_type": "execute_result"
    }
   ],
   "source": [
    "from sklearn.model_selection import train_test_split\n",
    "\n",
    "ntrials = 50\n",
    "# when you are debugging you will want to lower this number\n",
    "RMSEs = []\n",
    "for trial in range(ntrials):\n",
    "    X_train, X_test, t_train, t_test = train_test_split(X2, t, test_size=0.25,random_state=trial)\n",
    "    trees = Lab5_helper.make_trees(X_train,t_train,ntrees=100)\n",
    "    y = Lab5_helper.make_prediction(trees,X_test)\n",
    "    RMSEs.append(np.sqrt(((y-t_test)**2).sum()/len(t_test)))\n",
    "np.median(RMSEs)"
   ]
  },
  {
   "cell_type": "markdown",
   "metadata": {},
   "source": [
    "**Problem 1:** How do we know this is behaving as expected when there is so much randomness? This is a very similar to a question about how can we compare two algorithms? Let's examine this by changing the number of trees in bagging between 25 and 100. Then we will see if we can detect a difference.\n",
    "\n",
    "**Upload your solution here:** https://canvas.calpoly.edu/courses/89325/assignments/594359"
   ]
  },
  {
   "cell_type": "code",
   "execution_count": 51,
   "metadata": {},
   "outputs": [
    {
     "name": "stderr",
     "output_type": "stream",
     "text": [
      "C:\\Users\\Alexc\\AppData\\Local\\Temp\\ipykernel_3628\\2355050195.py:9: FutureWarning: The frame.append method is deprecated and will be removed from pandas in a future version. Use pandas.concat instead.\n",
      "  results = results.append(results2)\n"
     ]
    }
   ],
   "source": [
    "results = pd.DataFrame({'RMSE':RMSEs,'Method':'Bagging (ntrees=100)'})\n",
    "RMSEs = []\n",
    "for trial in range(ntrials):\n",
    "    X_train, X_test, t_train, t_test = train_test_split(X2, t, test_size=0.25,random_state=trial)\n",
    "    trees = Lab5_helper.make_trees(X_train,t_train,ntrees=25)\n",
    "    y = Lab5_helper.make_prediction(trees,X_test)\n",
    "    RMSEs.append(np.sqrt(((y-t_test)**2).sum()/len(t_test)))\n",
    "results2 = pd.DataFrame({'RMSE':RMSEs,'Method':'Bagging (ntrees=25)'})\n",
    "results = results.append(results2)"
   ]
  },
  {
   "cell_type": "code",
   "execution_count": 1,
   "metadata": {},
   "outputs": [
    {
     "ename": "NameError",
     "evalue": "name 'results' is not defined",
     "output_type": "error",
     "traceback": [
      "\u001b[1;31m---------------------------------------------------------------------------\u001b[0m",
      "\u001b[1;31mNameError\u001b[0m                                 Traceback (most recent call last)",
      "Cell \u001b[1;32mIn [1], line 1\u001b[0m\n\u001b[1;32m----> 1\u001b[0m results\u001b[39m.\u001b[39mgroupby(\u001b[39m'\u001b[39m\u001b[39mMethod\u001b[39m\u001b[39m'\u001b[39m)[\u001b[39m'\u001b[39m\u001b[39mRMSE\u001b[39m\u001b[39m'\u001b[39m]\u001b[39m.\u001b[39mmedian()\n",
      "\u001b[1;31mNameError\u001b[0m: name 'results' is not defined"
     ]
    }
   ],
   "source": [
    "results.groupby('Method')['RMSE'].median()"
   ]
  },
  {
   "cell_type": "code",
   "execution_count": 53,
   "metadata": {},
   "outputs": [
    {
     "data": {
      "text/plain": [
       "Method\n",
       "Bagging (ntrees=100)    0.228273\n",
       "Bagging (ntrees=25)     0.230299\n",
       "Name: RMSE, dtype: float64"
      ]
     },
     "execution_count": 53,
     "metadata": {},
     "output_type": "execute_result"
    }
   ],
   "source": [
    "results.groupby('Method')['RMSE'].mean()"
   ]
  },
  {
   "cell_type": "markdown",
   "metadata": {},
   "source": [
    "This looks promising! But what do the statistics tell us?"
   ]
  },
  {
   "cell_type": "code",
   "execution_count": 54,
   "metadata": {},
   "outputs": [
    {
     "data": {
      "text/html": [
       "\n",
       "<div id=\"altair-viz-fd372681f00d4407a823468d3fac8a39\"></div>\n",
       "<script type=\"text/javascript\">\n",
       "  (function(spec, embedOpt){\n",
       "    let outputDiv = document.currentScript.previousElementSibling;\n",
       "    if (outputDiv.id !== \"altair-viz-fd372681f00d4407a823468d3fac8a39\") {\n",
       "      outputDiv = document.getElementById(\"altair-viz-fd372681f00d4407a823468d3fac8a39\");\n",
       "    }\n",
       "    const paths = {\n",
       "      \"vega\": \"https://cdn.jsdelivr.net/npm//vega@5?noext\",\n",
       "      \"vega-lib\": \"https://cdn.jsdelivr.net/npm//vega-lib?noext\",\n",
       "      \"vega-lite\": \"https://cdn.jsdelivr.net/npm//vega-lite@4.8.1?noext\",\n",
       "      \"vega-embed\": \"https://cdn.jsdelivr.net/npm//vega-embed@6?noext\",\n",
       "    };\n",
       "\n",
       "    function loadScript(lib) {\n",
       "      return new Promise(function(resolve, reject) {\n",
       "        var s = document.createElement('script');\n",
       "        s.src = paths[lib];\n",
       "        s.async = true;\n",
       "        s.onload = () => resolve(paths[lib]);\n",
       "        s.onerror = () => reject(`Error loading script: ${paths[lib]}`);\n",
       "        document.getElementsByTagName(\"head\")[0].appendChild(s);\n",
       "      });\n",
       "    }\n",
       "\n",
       "    function showError(err) {\n",
       "      outputDiv.innerHTML = `<div class=\"error\" style=\"color:red;\">${err}</div>`;\n",
       "      throw err;\n",
       "    }\n",
       "\n",
       "    function displayChart(vegaEmbed) {\n",
       "      vegaEmbed(outputDiv, spec, embedOpt)\n",
       "        .catch(err => showError(`Javascript Error: ${err.message}<br>This usually means there's a typo in your chart specification. See the javascript console for the full traceback.`));\n",
       "    }\n",
       "\n",
       "    if(typeof define === \"function\" && define.amd) {\n",
       "      requirejs.config({paths});\n",
       "      require([\"vega-embed\"], displayChart, err => showError(`Error loading script: ${err.message}`));\n",
       "    } else if (typeof vegaEmbed === \"function\") {\n",
       "      displayChart(vegaEmbed);\n",
       "    } else {\n",
       "      loadScript(\"vega\")\n",
       "        .then(() => loadScript(\"vega-lite\"))\n",
       "        .then(() => loadScript(\"vega-embed\"))\n",
       "        .catch(showError)\n",
       "        .then(() => displayChart(vegaEmbed));\n",
       "    }\n",
       "  })({\"config\": {\"view\": {\"continuousWidth\": 400, \"continuousHeight\": 300}}, \"data\": {\"name\": \"data-f2fa075946a8b3fcca8d4ac3da11e80d\"}, \"mark\": \"boxplot\", \"encoding\": {\"x\": {\"type\": \"nominal\", \"field\": \"Method\"}, \"y\": {\"type\": \"quantitative\", \"field\": \"RMSE\"}}, \"width\": 300, \"$schema\": \"https://vega.github.io/schema/vega-lite/v4.8.1.json\", \"datasets\": {\"data-f2fa075946a8b3fcca8d4ac3da11e80d\": [{\"RMSE\": 0.2175785900040046, \"Method\": \"Bagging (ntrees=100)\"}, {\"RMSE\": 0.22849360650003506, \"Method\": \"Bagging (ntrees=100)\"}, {\"RMSE\": 0.22595828153447048, \"Method\": \"Bagging (ntrees=100)\"}, {\"RMSE\": 0.22372445349537376, \"Method\": \"Bagging (ntrees=100)\"}, {\"RMSE\": 0.2238362302481396, \"Method\": \"Bagging (ntrees=100)\"}, {\"RMSE\": 0.22898942366170605, \"Method\": \"Bagging (ntrees=100)\"}, {\"RMSE\": 0.23969715474540226, \"Method\": \"Bagging (ntrees=100)\"}, {\"RMSE\": 0.2269242624042964, \"Method\": \"Bagging (ntrees=100)\"}, {\"RMSE\": 0.22840405921933105, \"Method\": \"Bagging (ntrees=100)\"}, {\"RMSE\": 0.23475189336377425, \"Method\": \"Bagging (ntrees=100)\"}, {\"RMSE\": 0.2385876733964122, \"Method\": \"Bagging (ntrees=100)\"}, {\"RMSE\": 0.22588895400250866, \"Method\": \"Bagging (ntrees=100)\"}, {\"RMSE\": 0.22885248397971142, \"Method\": \"Bagging (ntrees=100)\"}, {\"RMSE\": 0.22952733345135254, \"Method\": \"Bagging (ntrees=100)\"}, {\"RMSE\": 0.22243843574897434, \"Method\": \"Bagging (ntrees=100)\"}, {\"RMSE\": 0.2258691591357795, \"Method\": \"Bagging (ntrees=100)\"}, {\"RMSE\": 0.2353235243019702, \"Method\": \"Bagging (ntrees=100)\"}, {\"RMSE\": 0.22393173617248974, \"Method\": \"Bagging (ntrees=100)\"}, {\"RMSE\": 0.22452614210088215, \"Method\": \"Bagging (ntrees=100)\"}, {\"RMSE\": 0.21922145382407401, \"Method\": \"Bagging (ntrees=100)\"}, {\"RMSE\": 0.22391646808140317, \"Method\": \"Bagging (ntrees=100)\"}, {\"RMSE\": 0.22796401131705593, \"Method\": \"Bagging (ntrees=100)\"}, {\"RMSE\": 0.23088456990212544, \"Method\": \"Bagging (ntrees=100)\"}, {\"RMSE\": 0.2282248433451042, \"Method\": \"Bagging (ntrees=100)\"}, {\"RMSE\": 0.22981901641430505, \"Method\": \"Bagging (ntrees=100)\"}, {\"RMSE\": 0.23467558721773263, \"Method\": \"Bagging (ntrees=100)\"}, {\"RMSE\": 0.2225439540051592, \"Method\": \"Bagging (ntrees=100)\"}, {\"RMSE\": 0.2291786306264589, \"Method\": \"Bagging (ntrees=100)\"}, {\"RMSE\": 0.23187886022098286, \"Method\": \"Bagging (ntrees=100)\"}, {\"RMSE\": 0.23664045324139907, \"Method\": \"Bagging (ntrees=100)\"}, {\"RMSE\": 0.23190161123749056, \"Method\": \"Bagging (ntrees=100)\"}, {\"RMSE\": 0.22348136141544162, \"Method\": \"Bagging (ntrees=100)\"}, {\"RMSE\": 0.22307959739131927, \"Method\": \"Bagging (ntrees=100)\"}, {\"RMSE\": 0.2288349092995019, \"Method\": \"Bagging (ntrees=100)\"}, {\"RMSE\": 0.2181249951474554, \"Method\": \"Bagging (ntrees=100)\"}, {\"RMSE\": 0.23292092849576596, \"Method\": \"Bagging (ntrees=100)\"}, {\"RMSE\": 0.23037226662709365, \"Method\": \"Bagging (ntrees=100)\"}, {\"RMSE\": 0.22344472098407198, \"Method\": \"Bagging (ntrees=100)\"}, {\"RMSE\": 0.22677966161553167, \"Method\": \"Bagging (ntrees=100)\"}, {\"RMSE\": 0.2437896717632309, \"Method\": \"Bagging (ntrees=100)\"}, {\"RMSE\": 0.22647111413749446, \"Method\": \"Bagging (ntrees=100)\"}, {\"RMSE\": 0.23200465197896988, \"Method\": \"Bagging (ntrees=100)\"}, {\"RMSE\": 0.2284174396458738, \"Method\": \"Bagging (ntrees=100)\"}, {\"RMSE\": 0.23206393538294642, \"Method\": \"Bagging (ntrees=100)\"}, {\"RMSE\": 0.22560415005205084, \"Method\": \"Bagging (ntrees=100)\"}, {\"RMSE\": 0.23130335758509984, \"Method\": \"Bagging (ntrees=100)\"}, {\"RMSE\": 0.23887430429588336, \"Method\": \"Bagging (ntrees=100)\"}, {\"RMSE\": 0.23338740105259867, \"Method\": \"Bagging (ntrees=100)\"}, {\"RMSE\": 0.21594482357339742, \"Method\": \"Bagging (ntrees=100)\"}, {\"RMSE\": 0.2186083720330562, \"Method\": \"Bagging (ntrees=100)\"}, {\"RMSE\": 0.2191396670933803, \"Method\": \"Bagging (ntrees=25)\"}, {\"RMSE\": 0.23067767302211423, \"Method\": \"Bagging (ntrees=25)\"}, {\"RMSE\": 0.23118613755005965, \"Method\": \"Bagging (ntrees=25)\"}, {\"RMSE\": 0.22466283012698718, \"Method\": \"Bagging (ntrees=25)\"}, {\"RMSE\": 0.2259815166983482, \"Method\": \"Bagging (ntrees=25)\"}, {\"RMSE\": 0.23296461604580487, \"Method\": \"Bagging (ntrees=25)\"}, {\"RMSE\": 0.23990028643075537, \"Method\": \"Bagging (ntrees=25)\"}, {\"RMSE\": 0.22564261003446065, \"Method\": \"Bagging (ntrees=25)\"}, {\"RMSE\": 0.23040243921285092, \"Method\": \"Bagging (ntrees=25)\"}, {\"RMSE\": 0.2354670641716751, \"Method\": \"Bagging (ntrees=25)\"}, {\"RMSE\": 0.23723843436723457, \"Method\": \"Bagging (ntrees=25)\"}, {\"RMSE\": 0.22850099061092674, \"Method\": \"Bagging (ntrees=25)\"}, {\"RMSE\": 0.2313029732792629, \"Method\": \"Bagging (ntrees=25)\"}, {\"RMSE\": 0.23104074824028664, \"Method\": \"Bagging (ntrees=25)\"}, {\"RMSE\": 0.22139099662265663, \"Method\": \"Bagging (ntrees=25)\"}, {\"RMSE\": 0.22909957936810404, \"Method\": \"Bagging (ntrees=25)\"}, {\"RMSE\": 0.2381944857158248, \"Method\": \"Bagging (ntrees=25)\"}, {\"RMSE\": 0.22668416567019742, \"Method\": \"Bagging (ntrees=25)\"}, {\"RMSE\": 0.22909723645886865, \"Method\": \"Bagging (ntrees=25)\"}, {\"RMSE\": 0.21853058551719579, \"Method\": \"Bagging (ntrees=25)\"}, {\"RMSE\": 0.2239254111667115, \"Method\": \"Bagging (ntrees=25)\"}, {\"RMSE\": 0.22867527668767504, \"Method\": \"Bagging (ntrees=25)\"}, {\"RMSE\": 0.23146040129697554, \"Method\": \"Bagging (ntrees=25)\"}, {\"RMSE\": 0.23134489004591638, \"Method\": \"Bagging (ntrees=25)\"}, {\"RMSE\": 0.2317216496110294, \"Method\": \"Bagging (ntrees=25)\"}, {\"RMSE\": 0.2370824393981614, \"Method\": \"Bagging (ntrees=25)\"}, {\"RMSE\": 0.22488333539433905, \"Method\": \"Bagging (ntrees=25)\"}, {\"RMSE\": 0.23552060207720424, \"Method\": \"Bagging (ntrees=25)\"}, {\"RMSE\": 0.23274338501045655, \"Method\": \"Bagging (ntrees=25)\"}, {\"RMSE\": 0.23552760881747917, \"Method\": \"Bagging (ntrees=25)\"}, {\"RMSE\": 0.23628474469315222, \"Method\": \"Bagging (ntrees=25)\"}, {\"RMSE\": 0.2306393471810665, \"Method\": \"Bagging (ntrees=25)\"}, {\"RMSE\": 0.2234817069885711, \"Method\": \"Bagging (ntrees=25)\"}, {\"RMSE\": 0.23030784773942475, \"Method\": \"Bagging (ntrees=25)\"}, {\"RMSE\": 0.22003525157343995, \"Method\": \"Bagging (ntrees=25)\"}, {\"RMSE\": 0.23684242290766658, \"Method\": \"Bagging (ntrees=25)\"}, {\"RMSE\": 0.23357071121014628, \"Method\": \"Bagging (ntrees=25)\"}, {\"RMSE\": 0.22481807869949835, \"Method\": \"Bagging (ntrees=25)\"}, {\"RMSE\": 0.22840210504083444, \"Method\": \"Bagging (ntrees=25)\"}, {\"RMSE\": 0.24758268456216234, \"Method\": \"Bagging (ntrees=25)\"}, {\"RMSE\": 0.22563995601360848, \"Method\": \"Bagging (ntrees=25)\"}, {\"RMSE\": 0.2388158021601216, \"Method\": \"Bagging (ntrees=25)\"}, {\"RMSE\": 0.23099074694677535, \"Method\": \"Bagging (ntrees=25)\"}, {\"RMSE\": 0.22776219926603272, \"Method\": \"Bagging (ntrees=25)\"}, {\"RMSE\": 0.22675572342773292, \"Method\": \"Bagging (ntrees=25)\"}, {\"RMSE\": 0.23335748294485875, \"Method\": \"Bagging (ntrees=25)\"}, {\"RMSE\": 0.24383680184784357, \"Method\": \"Bagging (ntrees=25)\"}, {\"RMSE\": 0.23676178551937901, \"Method\": \"Bagging (ntrees=25)\"}, {\"RMSE\": 0.2204300603322246, \"Method\": \"Bagging (ntrees=25)\"}, {\"RMSE\": 0.21865367246144846, \"Method\": \"Bagging (ntrees=25)\"}]}}, {\"mode\": \"vega-lite\"});\n",
       "</script>"
      ],
      "text/plain": [
       "alt.Chart(...)"
      ]
     },
     "execution_count": 54,
     "metadata": {},
     "output_type": "execute_result"
    }
   ],
   "source": [
    "import altair as alt\n",
    "\n",
    "alt.Chart(results).mark_boxplot().encode(\n",
    "    alt.Y(\"RMSE:Q\"),\n",
    "    x='Method',\n",
    ").properties(width=300)"
   ]
  },
  {
   "cell_type": "markdown",
   "metadata": {},
   "source": [
    "For a moment, let's not worry that the underlying distributions do not look normal. We know how to compare the average of two distributions, the t-test. Let's see what that says:"
   ]
  },
  {
   "cell_type": "code",
   "execution_count": 55,
   "metadata": {},
   "outputs": [
    {
     "data": {
      "text/html": [
       "<div>\n",
       "<style scoped>\n",
       "    .dataframe tbody tr th:only-of-type {\n",
       "        vertical-align: middle;\n",
       "    }\n",
       "\n",
       "    .dataframe tbody tr th {\n",
       "        vertical-align: top;\n",
       "    }\n",
       "\n",
       "    .dataframe thead tr th {\n",
       "        text-align: left;\n",
       "    }\n",
       "</style>\n",
       "<table border=\"1\" class=\"dataframe\">\n",
       "  <thead>\n",
       "    <tr>\n",
       "      <th></th>\n",
       "      <th colspan=\"2\" halign=\"left\">RMSE</th>\n",
       "    </tr>\n",
       "    <tr>\n",
       "      <th>Method</th>\n",
       "      <th>Bagging (ntrees=100)</th>\n",
       "      <th>Bagging (ntrees=25)</th>\n",
       "    </tr>\n",
       "  </thead>\n",
       "  <tbody>\n",
       "    <tr>\n",
       "      <th>0</th>\n",
       "      <td>0.217579</td>\n",
       "      <td>0.219140</td>\n",
       "    </tr>\n",
       "    <tr>\n",
       "      <th>1</th>\n",
       "      <td>0.228494</td>\n",
       "      <td>0.230678</td>\n",
       "    </tr>\n",
       "    <tr>\n",
       "      <th>2</th>\n",
       "      <td>0.225958</td>\n",
       "      <td>0.231186</td>\n",
       "    </tr>\n",
       "    <tr>\n",
       "      <th>3</th>\n",
       "      <td>0.223724</td>\n",
       "      <td>0.224663</td>\n",
       "    </tr>\n",
       "    <tr>\n",
       "      <th>4</th>\n",
       "      <td>0.223836</td>\n",
       "      <td>0.225982</td>\n",
       "    </tr>\n",
       "  </tbody>\n",
       "</table>\n",
       "</div>"
      ],
      "text/plain": [
       "                       RMSE                    \n",
       "Method Bagging (ntrees=100) Bagging (ntrees=25)\n",
       "0                  0.217579            0.219140\n",
       "1                  0.228494            0.230678\n",
       "2                  0.225958            0.231186\n",
       "3                  0.223724            0.224663\n",
       "4                  0.223836            0.225982"
      ]
     },
     "execution_count": 55,
     "metadata": {},
     "output_type": "execute_result"
    }
   ],
   "source": [
    "pivot_results = results.pivot(columns='Method')\n",
    "pivot_results.head()"
   ]
  },
  {
   "cell_type": "code",
   "execution_count": 56,
   "metadata": {},
   "outputs": [
    {
     "data": {
      "text/plain": [
       "MultiIndex([('RMSE', 'Bagging (ntrees=100)'),\n",
       "            ('RMSE',  'Bagging (ntrees=25)')],\n",
       "           names=[None, 'Method'])"
      ]
     },
     "execution_count": 56,
     "metadata": {},
     "output_type": "execute_result"
    }
   ],
   "source": [
    "pivot_results.columns"
   ]
  },
  {
   "cell_type": "code",
   "execution_count": 57,
   "metadata": {},
   "outputs": [
    {
     "data": {
      "text/plain": [
       "Ttest_indResult(statistic=-1.6395791637603074, pvalue=0.10429902446989216)"
      ]
     },
     "execution_count": 57,
     "metadata": {},
     "output_type": "execute_result"
    }
   ],
   "source": [
    "from scipy import stats\n",
    "stats.stats.ttest_ind(pivot_results[('RMSE', 'Bagging (ntrees=100)')],pivot_results[('RMSE', 'Bagging (ntrees=25)')],equal_var = True)"
   ]
  },
  {
   "cell_type": "markdown",
   "metadata": {},
   "source": [
    "So according to this test, we do not see any significant difference between the results."
   ]
  },
  {
   "cell_type": "markdown",
   "metadata": {},
   "source": [
    "Response: We can see if changing the bagging makes a meanignful difference. Hopefully increasing the number of trees will make our predictions more accurate. Currently, is a increase of the RMSE of bagging at 25 to 100, but it isn't significant. "
   ]
  },
  {
   "cell_type": "markdown",
   "metadata": {},
   "source": [
    "**Problem 2.** What if you only used 2 trees? Is there a significant difference between 2 and 25 trees?\n",
    "\n",
    "**Upload your solution here:** https://canvas.calpoly.edu/courses/89325/assignments/594360"
   ]
  },
  {
   "cell_type": "code",
   "execution_count": 58,
   "metadata": {},
   "outputs": [
    {
     "name": "stderr",
     "output_type": "stream",
     "text": [
      "C:\\Users\\Alexc\\AppData\\Local\\Temp\\ipykernel_3628\\426162914.py:8: FutureWarning: The frame.append method is deprecated and will be removed from pandas in a future version. Use pandas.concat instead.\n",
      "  results = results.append(results2)\n"
     ]
    }
   ],
   "source": [
    "RMSEs = []\n",
    "for trial in range(ntrials):\n",
    "    X_train, X_test, t_train, t_test = train_test_split(X2, t, test_size=0.25,random_state=trial)\n",
    "    trees = Lab5_helper.make_trees(X_train,t_train,ntrees=2)\n",
    "    y = Lab5_helper.make_prediction(trees,X_test)\n",
    "    RMSEs.append(np.sqrt(((y-t_test)**2).sum()/len(t_test)))\n",
    "results2 = pd.DataFrame({'RMSE':RMSEs,'Method':'Bagging (ntrees=2)'})\n",
    "results = results.append(results2)"
   ]
  },
  {
   "cell_type": "code",
   "execution_count": 59,
   "metadata": {},
   "outputs": [
    {
     "data": {
      "text/plain": [
       "Method\n",
       "Bagging (ntrees=100)    0.228273\n",
       "Bagging (ntrees=2)      0.252247\n",
       "Bagging (ntrees=25)     0.230299\n",
       "Name: RMSE, dtype: float64"
      ]
     },
     "execution_count": 59,
     "metadata": {},
     "output_type": "execute_result"
    }
   ],
   "source": [
    "results.groupby('Method')['RMSE'].mean()"
   ]
  },
  {
   "cell_type": "code",
   "execution_count": 60,
   "metadata": {},
   "outputs": [
    {
     "data": {
      "text/html": [
       "<div>\n",
       "<style scoped>\n",
       "    .dataframe tbody tr th:only-of-type {\n",
       "        vertical-align: middle;\n",
       "    }\n",
       "\n",
       "    .dataframe tbody tr th {\n",
       "        vertical-align: top;\n",
       "    }\n",
       "\n",
       "    .dataframe thead tr th {\n",
       "        text-align: left;\n",
       "    }\n",
       "</style>\n",
       "<table border=\"1\" class=\"dataframe\">\n",
       "  <thead>\n",
       "    <tr>\n",
       "      <th></th>\n",
       "      <th colspan=\"3\" halign=\"left\">RMSE</th>\n",
       "    </tr>\n",
       "    <tr>\n",
       "      <th>Method</th>\n",
       "      <th>Bagging (ntrees=100)</th>\n",
       "      <th>Bagging (ntrees=2)</th>\n",
       "      <th>Bagging (ntrees=25)</th>\n",
       "    </tr>\n",
       "  </thead>\n",
       "  <tbody>\n",
       "    <tr>\n",
       "      <th>0</th>\n",
       "      <td>0.217579</td>\n",
       "      <td>0.246525</td>\n",
       "      <td>0.219140</td>\n",
       "    </tr>\n",
       "    <tr>\n",
       "      <th>1</th>\n",
       "      <td>0.228494</td>\n",
       "      <td>0.255338</td>\n",
       "      <td>0.230678</td>\n",
       "    </tr>\n",
       "    <tr>\n",
       "      <th>2</th>\n",
       "      <td>0.225958</td>\n",
       "      <td>0.247379</td>\n",
       "      <td>0.231186</td>\n",
       "    </tr>\n",
       "    <tr>\n",
       "      <th>3</th>\n",
       "      <td>0.223724</td>\n",
       "      <td>0.254408</td>\n",
       "      <td>0.224663</td>\n",
       "    </tr>\n",
       "    <tr>\n",
       "      <th>4</th>\n",
       "      <td>0.223836</td>\n",
       "      <td>0.245289</td>\n",
       "      <td>0.225982</td>\n",
       "    </tr>\n",
       "  </tbody>\n",
       "</table>\n",
       "</div>"
      ],
      "text/plain": [
       "                       RMSE                                       \n",
       "Method Bagging (ntrees=100) Bagging (ntrees=2) Bagging (ntrees=25)\n",
       "0                  0.217579           0.246525            0.219140\n",
       "1                  0.228494           0.255338            0.230678\n",
       "2                  0.225958           0.247379            0.231186\n",
       "3                  0.223724           0.254408            0.224663\n",
       "4                  0.223836           0.245289            0.225982"
      ]
     },
     "execution_count": 60,
     "metadata": {},
     "output_type": "execute_result"
    }
   ],
   "source": [
    "pivot_results = results.pivot(columns='Method')\n",
    "pivot_results.head()"
   ]
  },
  {
   "cell_type": "code",
   "execution_count": 61,
   "metadata": {},
   "outputs": [
    {
     "data": {
      "text/plain": [
       "Ttest_indResult(statistic=-16.15585303830979, pvalue=2.2008499650666277e-29)"
      ]
     },
     "execution_count": 61,
     "metadata": {},
     "output_type": "execute_result"
    }
   ],
   "source": [
    "stats.stats.ttest_ind(pivot_results[('RMSE', 'Bagging (ntrees=100)')],pivot_results[('RMSE', 'Bagging (ntrees=2)')],equal_var = True)"
   ]
  },
  {
   "cell_type": "markdown",
   "metadata": {},
   "source": [
    "Finally, we can report a p-value < 0.05! Even if we were to discuss multiple test correction at this time, this would still be a significant result. So bagging is helping us!"
   ]
  },
  {
   "cell_type": "markdown",
   "metadata": {},
   "source": [
    "Reponse: Because there is a signifigant difference in the RMSE from baggin at 2 trees to 25, we're confident that bagging is actually helping us"
   ]
  },
  {
   "cell_type": "markdown",
   "metadata": {},
   "source": [
    "#### Exercise 2\n",
    "Implement boosting using regression trees as the (weak) individual learner. You should be able to reach a similar accuray to my implementation."
   ]
  },
  {
   "cell_type": "code",
   "execution_count": 76,
   "metadata": {},
   "outputs": [
    {
     "name": "stderr",
     "output_type": "stream",
     "text": [
      "C:\\Users\\Alexc\\AppData\\Local\\Temp\\ipykernel_3628\\1374651341.py:10: FutureWarning: The frame.append method is deprecated and will be removed from pandas in a future version. Use pandas.concat instead.\n",
      "  results = results.append(results2)\n"
     ]
    }
   ],
   "source": [
    "RMSEs = []\n",
    "for trial in range(ntrials):\n",
    "    X_train, X_test, t_train, t_test = train_test_split(X2, t, test_size=0.25,random_state=trial)\n",
    "    X_train2, X_val, t_train2, t_val = train_test_split(X_train, t_train, test_size=0.25,random_state=trial)\n",
    "    trees,train_RMSEs,val_RMSEs = Lab5_helper.make_trees_boost(X_train2, X_val, t_train2, t_val, max_ntrees=100)\n",
    "    trees = Lab5_helper.cut_trees(trees,val_RMSEs)\n",
    "    y = Lab5_helper.make_prediction_boost(trees,X_test)\n",
    "    RMSEs.append(np.sqrt(((y-t_test)**2).sum()/len(t_test)))\n",
    "results2 = pd.DataFrame({'RMSE':RMSEs,'Method':'Boosting (max_ntrees=100)'})\n",
    "results = results.append(results2)"
   ]
  },
  {
   "cell_type": "code",
   "execution_count": 77,
   "metadata": {},
   "outputs": [
    {
     "data": {
      "text/html": [
       "\n",
       "<div id=\"altair-viz-9a2319365aa440559f4aeac480a70cc1\"></div>\n",
       "<script type=\"text/javascript\">\n",
       "  (function(spec, embedOpt){\n",
       "    let outputDiv = document.currentScript.previousElementSibling;\n",
       "    if (outputDiv.id !== \"altair-viz-9a2319365aa440559f4aeac480a70cc1\") {\n",
       "      outputDiv = document.getElementById(\"altair-viz-9a2319365aa440559f4aeac480a70cc1\");\n",
       "    }\n",
       "    const paths = {\n",
       "      \"vega\": \"https://cdn.jsdelivr.net/npm//vega@5?noext\",\n",
       "      \"vega-lib\": \"https://cdn.jsdelivr.net/npm//vega-lib?noext\",\n",
       "      \"vega-lite\": \"https://cdn.jsdelivr.net/npm//vega-lite@4.8.1?noext\",\n",
       "      \"vega-embed\": \"https://cdn.jsdelivr.net/npm//vega-embed@6?noext\",\n",
       "    };\n",
       "\n",
       "    function loadScript(lib) {\n",
       "      return new Promise(function(resolve, reject) {\n",
       "        var s = document.createElement('script');\n",
       "        s.src = paths[lib];\n",
       "        s.async = true;\n",
       "        s.onload = () => resolve(paths[lib]);\n",
       "        s.onerror = () => reject(`Error loading script: ${paths[lib]}`);\n",
       "        document.getElementsByTagName(\"head\")[0].appendChild(s);\n",
       "      });\n",
       "    }\n",
       "\n",
       "    function showError(err) {\n",
       "      outputDiv.innerHTML = `<div class=\"error\" style=\"color:red;\">${err}</div>`;\n",
       "      throw err;\n",
       "    }\n",
       "\n",
       "    function displayChart(vegaEmbed) {\n",
       "      vegaEmbed(outputDiv, spec, embedOpt)\n",
       "        .catch(err => showError(`Javascript Error: ${err.message}<br>This usually means there's a typo in your chart specification. See the javascript console for the full traceback.`));\n",
       "    }\n",
       "\n",
       "    if(typeof define === \"function\" && define.amd) {\n",
       "      requirejs.config({paths});\n",
       "      require([\"vega-embed\"], displayChart, err => showError(`Error loading script: ${err.message}`));\n",
       "    } else if (typeof vegaEmbed === \"function\") {\n",
       "      displayChart(vegaEmbed);\n",
       "    } else {\n",
       "      loadScript(\"vega\")\n",
       "        .then(() => loadScript(\"vega-lite\"))\n",
       "        .then(() => loadScript(\"vega-embed\"))\n",
       "        .catch(showError)\n",
       "        .then(() => displayChart(vegaEmbed));\n",
       "    }\n",
       "  })({\"config\": {\"view\": {\"continuousWidth\": 400, \"continuousHeight\": 300}}, \"data\": {\"name\": \"data-4ab4b4d59ed15e24047317362195e04f\"}, \"mark\": \"line\", \"encoding\": {\"color\": {\"type\": \"nominal\", \"field\": \"variable\"}, \"x\": {\"type\": \"quantitative\", \"field\": \"ntrees\"}, \"y\": {\"type\": \"quantitative\", \"field\": \"value\", \"scale\": {\"domain\": [0.1, 0.3]}}}, \"width\": 500, \"$schema\": \"https://vega.github.io/schema/vega-lite/v4.8.1.json\", \"datasets\": {\"data-4ab4b4d59ed15e24047317362195e04f\": [{\"ntrees\": 0, \"variable\": \"train_RMSE\", \"value\": 0.23361175722869007}, {\"ntrees\": 1, \"variable\": \"train_RMSE\", \"value\": 0.22467289521860842}, {\"ntrees\": 2, \"variable\": \"train_RMSE\", \"value\": 0.2203789445442496}, {\"ntrees\": 3, \"variable\": \"train_RMSE\", \"value\": 0.21788041804241934}, {\"ntrees\": 4, \"variable\": \"train_RMSE\", \"value\": 0.21720982515620177}, {\"ntrees\": 5, \"variable\": \"train_RMSE\", \"value\": 0.21552887790550979}, {\"ntrees\": 6, \"variable\": \"train_RMSE\", \"value\": 0.2137437196220177}, {\"ntrees\": 7, \"variable\": \"train_RMSE\", \"value\": 0.21245305316595015}, {\"ntrees\": 8, \"variable\": \"train_RMSE\", \"value\": 0.21053779017866323}, {\"ntrees\": 9, \"variable\": \"train_RMSE\", \"value\": 0.20886199077242953}, {\"ntrees\": 10, \"variable\": \"train_RMSE\", \"value\": 0.20712022394436616}, {\"ntrees\": 11, \"variable\": \"train_RMSE\", \"value\": 0.20672017054224032}, {\"ntrees\": 12, \"variable\": \"train_RMSE\", \"value\": 0.20587828391840005}, {\"ntrees\": 13, \"variable\": \"train_RMSE\", \"value\": 0.20544861132431877}, {\"ntrees\": 14, \"variable\": \"train_RMSE\", \"value\": 0.20483469542284238}, {\"ntrees\": 15, \"variable\": \"train_RMSE\", \"value\": 0.2035205397819556}, {\"ntrees\": 16, \"variable\": \"train_RMSE\", \"value\": 0.20286793439479225}, {\"ntrees\": 17, \"variable\": \"train_RMSE\", \"value\": 0.20129158382258575}, {\"ntrees\": 18, \"variable\": \"train_RMSE\", \"value\": 0.20010736275706562}, {\"ntrees\": 19, \"variable\": \"train_RMSE\", \"value\": 0.19919345006446754}, {\"ntrees\": 20, \"variable\": \"train_RMSE\", \"value\": 0.19895216434417928}, {\"ntrees\": 21, \"variable\": \"train_RMSE\", \"value\": 0.19812804234784298}, {\"ntrees\": 22, \"variable\": \"train_RMSE\", \"value\": 0.19747128125581973}, {\"ntrees\": 23, \"variable\": \"train_RMSE\", \"value\": 0.19657358462326335}, {\"ntrees\": 24, \"variable\": \"train_RMSE\", \"value\": 0.19608302516197298}, {\"ntrees\": 25, \"variable\": \"train_RMSE\", \"value\": 0.19479443357672674}, {\"ntrees\": 26, \"variable\": \"train_RMSE\", \"value\": 0.19237033383852625}, {\"ntrees\": 27, \"variable\": \"train_RMSE\", \"value\": 0.19211474149366173}, {\"ntrees\": 28, \"variable\": \"train_RMSE\", \"value\": 0.19135644632680945}, {\"ntrees\": 29, \"variable\": \"train_RMSE\", \"value\": 0.1908610465351189}, {\"ntrees\": 30, \"variable\": \"train_RMSE\", \"value\": 0.19009192647488787}, {\"ntrees\": 31, \"variable\": \"train_RMSE\", \"value\": 0.18950980876611598}, {\"ntrees\": 32, \"variable\": \"train_RMSE\", \"value\": 0.18929168751030154}, {\"ntrees\": 33, \"variable\": \"train_RMSE\", \"value\": 0.18796965154775327}, {\"ntrees\": 34, \"variable\": \"train_RMSE\", \"value\": 0.18684976710761927}, {\"ntrees\": 35, \"variable\": \"train_RMSE\", \"value\": 0.18646417582671837}, {\"ntrees\": 36, \"variable\": \"train_RMSE\", \"value\": 0.1861304322368956}, {\"ntrees\": 37, \"variable\": \"train_RMSE\", \"value\": 0.1847914749004286}, {\"ntrees\": 38, \"variable\": \"train_RMSE\", \"value\": 0.18370243428577718}, {\"ntrees\": 39, \"variable\": \"train_RMSE\", \"value\": 0.18230887948734958}, {\"ntrees\": 40, \"variable\": \"train_RMSE\", \"value\": 0.18216870902587426}, {\"ntrees\": 41, \"variable\": \"train_RMSE\", \"value\": 0.18100083273345663}, {\"ntrees\": 42, \"variable\": \"train_RMSE\", \"value\": 0.18034087924669126}, {\"ntrees\": 43, \"variable\": \"train_RMSE\", \"value\": 0.17989825205381435}, {\"ntrees\": 44, \"variable\": \"train_RMSE\", \"value\": 0.17966146428166282}, {\"ntrees\": 45, \"variable\": \"train_RMSE\", \"value\": 0.179398066093959}, {\"ntrees\": 46, \"variable\": \"train_RMSE\", \"value\": 0.179298761908683}, {\"ntrees\": 47, \"variable\": \"train_RMSE\", \"value\": 0.17870837679998047}, {\"ntrees\": 48, \"variable\": \"train_RMSE\", \"value\": 0.17812223768851845}, {\"ntrees\": 49, \"variable\": \"train_RMSE\", \"value\": 0.17702048072435167}, {\"ntrees\": 50, \"variable\": \"train_RMSE\", \"value\": 0.1760188583797206}, {\"ntrees\": 51, \"variable\": \"train_RMSE\", \"value\": 0.17523783097344936}, {\"ntrees\": 52, \"variable\": \"train_RMSE\", \"value\": 0.17473332094408514}, {\"ntrees\": 53, \"variable\": \"train_RMSE\", \"value\": 0.1742728350691829}, {\"ntrees\": 54, \"variable\": \"train_RMSE\", \"value\": 0.17292044227568923}, {\"ntrees\": 55, \"variable\": \"train_RMSE\", \"value\": 0.17245778297558545}, {\"ntrees\": 56, \"variable\": \"train_RMSE\", \"value\": 0.17165797207469224}, {\"ntrees\": 57, \"variable\": \"train_RMSE\", \"value\": 0.17100051928132698}, {\"ntrees\": 58, \"variable\": \"train_RMSE\", \"value\": 0.16989451284822463}, {\"ntrees\": 59, \"variable\": \"train_RMSE\", \"value\": 0.16856926218057441}, {\"ntrees\": 60, \"variable\": \"train_RMSE\", \"value\": 0.16796761970488058}, {\"ntrees\": 61, \"variable\": \"train_RMSE\", \"value\": 0.1672712093297195}, {\"ntrees\": 62, \"variable\": \"train_RMSE\", \"value\": 0.16666698798131688}, {\"ntrees\": 63, \"variable\": \"train_RMSE\", \"value\": 0.16628783625879928}, {\"ntrees\": 64, \"variable\": \"train_RMSE\", \"value\": 0.16621466332854443}, {\"ntrees\": 65, \"variable\": \"train_RMSE\", \"value\": 0.1655740284320291}, {\"ntrees\": 66, \"variable\": \"train_RMSE\", \"value\": 0.16526236431318495}, {\"ntrees\": 67, \"variable\": \"train_RMSE\", \"value\": 0.16483457027848886}, {\"ntrees\": 68, \"variable\": \"train_RMSE\", \"value\": 0.16427119399268886}, {\"ntrees\": 69, \"variable\": \"train_RMSE\", \"value\": 0.1631623416719142}, {\"ntrees\": 70, \"variable\": \"train_RMSE\", \"value\": 0.16214946038369626}, {\"ntrees\": 71, \"variable\": \"train_RMSE\", \"value\": 0.16170933500286216}, {\"ntrees\": 72, \"variable\": \"train_RMSE\", \"value\": 0.16074984720594165}, {\"ntrees\": 73, \"variable\": \"train_RMSE\", \"value\": 0.15965871343771182}, {\"ntrees\": 74, \"variable\": \"train_RMSE\", \"value\": 0.1593336643699821}, {\"ntrees\": 75, \"variable\": \"train_RMSE\", \"value\": 0.1589914985757942}, {\"ntrees\": 76, \"variable\": \"train_RMSE\", \"value\": 0.15847695754832417}, {\"ntrees\": 77, \"variable\": \"train_RMSE\", \"value\": 0.1576605288931892}, {\"ntrees\": 78, \"variable\": \"train_RMSE\", \"value\": 0.15731155485432394}, {\"ntrees\": 79, \"variable\": \"train_RMSE\", \"value\": 0.15685232065003663}, {\"ntrees\": 80, \"variable\": \"train_RMSE\", \"value\": 0.15605587399651483}, {\"ntrees\": 81, \"variable\": \"train_RMSE\", \"value\": 0.1553646300282071}, {\"ntrees\": 82, \"variable\": \"train_RMSE\", \"value\": 0.15474880384241801}, {\"ntrees\": 83, \"variable\": \"train_RMSE\", \"value\": 0.15402226931761473}, {\"ntrees\": 84, \"variable\": \"train_RMSE\", \"value\": 0.15378880091131852}, {\"ntrees\": 85, \"variable\": \"train_RMSE\", \"value\": 0.15354762077760614}, {\"ntrees\": 86, \"variable\": \"train_RMSE\", \"value\": 0.15317516361953612}, {\"ntrees\": 87, \"variable\": \"train_RMSE\", \"value\": 0.15214261168313137}, {\"ntrees\": 88, \"variable\": \"train_RMSE\", \"value\": 0.15156687802946373}, {\"ntrees\": 89, \"variable\": \"train_RMSE\", \"value\": 0.15090136356415762}, {\"ntrees\": 90, \"variable\": \"train_RMSE\", \"value\": 0.1496729582563392}, {\"ntrees\": 91, \"variable\": \"train_RMSE\", \"value\": 0.14913176918150697}, {\"ntrees\": 92, \"variable\": \"train_RMSE\", \"value\": 0.14840983923501933}, {\"ntrees\": 93, \"variable\": \"train_RMSE\", \"value\": 0.1480927512196063}, {\"ntrees\": 94, \"variable\": \"train_RMSE\", \"value\": 0.14723725846109706}, {\"ntrees\": 95, \"variable\": \"train_RMSE\", \"value\": 0.14690081975719818}, {\"ntrees\": 96, \"variable\": \"train_RMSE\", \"value\": 0.1461611750894858}, {\"ntrees\": 97, \"variable\": \"train_RMSE\", \"value\": 0.1456546263654861}, {\"ntrees\": 98, \"variable\": \"train_RMSE\", \"value\": 0.14496693208159375}, {\"ntrees\": 99, \"variable\": \"train_RMSE\", \"value\": 0.14425728705470325}, {\"ntrees\": 0, \"variable\": \"val_RMSE\", \"value\": 0.239738196609986}, {\"ntrees\": 1, \"variable\": \"val_RMSE\", \"value\": 0.23046953632996312}, {\"ntrees\": 2, \"variable\": \"val_RMSE\", \"value\": 0.2289201377088864}, {\"ntrees\": 3, \"variable\": \"val_RMSE\", \"value\": 0.22722958455611408}, {\"ntrees\": 4, \"variable\": \"val_RMSE\", \"value\": 0.22860744582240541}, {\"ntrees\": 5, \"variable\": \"val_RMSE\", \"value\": 0.22840946775884613}, {\"ntrees\": 6, \"variable\": \"val_RMSE\", \"value\": 0.22895916877507486}, {\"ntrees\": 7, \"variable\": \"val_RMSE\", \"value\": 0.22818095109781375}, {\"ntrees\": 8, \"variable\": \"val_RMSE\", \"value\": 0.2302388531759342}, {\"ntrees\": 9, \"variable\": \"val_RMSE\", \"value\": 0.23190282300981332}, {\"ntrees\": 10, \"variable\": \"val_RMSE\", \"value\": 0.23482275939072553}, {\"ntrees\": 11, \"variable\": \"val_RMSE\", \"value\": 0.23528008604540296}, {\"ntrees\": 12, \"variable\": \"val_RMSE\", \"value\": 0.23560167336427848}, {\"ntrees\": 13, \"variable\": \"val_RMSE\", \"value\": 0.23506278755259852}, {\"ntrees\": 14, \"variable\": \"val_RMSE\", \"value\": 0.23394783376893943}, {\"ntrees\": 15, \"variable\": \"val_RMSE\", \"value\": 0.2339892437443513}, {\"ntrees\": 16, \"variable\": \"val_RMSE\", \"value\": 0.23590235419045924}, {\"ntrees\": 17, \"variable\": \"val_RMSE\", \"value\": 0.235930026451839}, {\"ntrees\": 18, \"variable\": \"val_RMSE\", \"value\": 0.23478184207109173}, {\"ntrees\": 19, \"variable\": \"val_RMSE\", \"value\": 0.23385598420764145}, {\"ntrees\": 20, \"variable\": \"val_RMSE\", \"value\": 0.23358012677957984}, {\"ntrees\": 21, \"variable\": \"val_RMSE\", \"value\": 0.23324377628260057}, {\"ntrees\": 22, \"variable\": \"val_RMSE\", \"value\": 0.23318000375159015}, {\"ntrees\": 23, \"variable\": \"val_RMSE\", \"value\": 0.23294667114269704}, {\"ntrees\": 24, \"variable\": \"val_RMSE\", \"value\": 0.23320332338749117}, {\"ntrees\": 25, \"variable\": \"val_RMSE\", \"value\": 0.23604371781112846}, {\"ntrees\": 26, \"variable\": \"val_RMSE\", \"value\": 0.23870211735199875}, {\"ntrees\": 27, \"variable\": \"val_RMSE\", \"value\": 0.23877057550684874}, {\"ntrees\": 28, \"variable\": \"val_RMSE\", \"value\": 0.24062122167104044}, {\"ntrees\": 29, \"variable\": \"val_RMSE\", \"value\": 0.24235898869252637}, {\"ntrees\": 30, \"variable\": \"val_RMSE\", \"value\": 0.24252085107334065}, {\"ntrees\": 31, \"variable\": \"val_RMSE\", \"value\": 0.24293889224617118}, {\"ntrees\": 32, \"variable\": \"val_RMSE\", \"value\": 0.24338824535899162}, {\"ntrees\": 33, \"variable\": \"val_RMSE\", \"value\": 0.24364312268939994}, {\"ntrees\": 34, \"variable\": \"val_RMSE\", \"value\": 0.24325413833392737}, {\"ntrees\": 35, \"variable\": \"val_RMSE\", \"value\": 0.24478346373151638}, {\"ntrees\": 36, \"variable\": \"val_RMSE\", \"value\": 0.2445308852134705}, {\"ntrees\": 37, \"variable\": \"val_RMSE\", \"value\": 0.24469032118146608}, {\"ntrees\": 38, \"variable\": \"val_RMSE\", \"value\": 0.24473038532618432}, {\"ntrees\": 39, \"variable\": \"val_RMSE\", \"value\": 0.2435948696657567}, {\"ntrees\": 40, \"variable\": \"val_RMSE\", \"value\": 0.24408258768106483}, {\"ntrees\": 41, \"variable\": \"val_RMSE\", \"value\": 0.2434589214343962}, {\"ntrees\": 42, \"variable\": \"val_RMSE\", \"value\": 0.24381924661835452}, {\"ntrees\": 43, \"variable\": \"val_RMSE\", \"value\": 0.24366296590136224}, {\"ntrees\": 44, \"variable\": \"val_RMSE\", \"value\": 0.24350526977873302}, {\"ntrees\": 45, \"variable\": \"val_RMSE\", \"value\": 0.2435018683768589}, {\"ntrees\": 46, \"variable\": \"val_RMSE\", \"value\": 0.2435021688852983}, {\"ntrees\": 47, \"variable\": \"val_RMSE\", \"value\": 0.2442330375573449}, {\"ntrees\": 48, \"variable\": \"val_RMSE\", \"value\": 0.24393226042971067}, {\"ntrees\": 49, \"variable\": \"val_RMSE\", \"value\": 0.24413791115399844}, {\"ntrees\": 50, \"variable\": \"val_RMSE\", \"value\": 0.24515332113777172}, {\"ntrees\": 51, \"variable\": \"val_RMSE\", \"value\": 0.24419762180275253}, {\"ntrees\": 52, \"variable\": \"val_RMSE\", \"value\": 0.24455734304054338}, {\"ntrees\": 53, \"variable\": \"val_RMSE\", \"value\": 0.245911453230399}, {\"ntrees\": 54, \"variable\": \"val_RMSE\", \"value\": 0.247497051594274}, {\"ntrees\": 55, \"variable\": \"val_RMSE\", \"value\": 0.24795955263809105}, {\"ntrees\": 56, \"variable\": \"val_RMSE\", \"value\": 0.2501998210621391}, {\"ntrees\": 57, \"variable\": \"val_RMSE\", \"value\": 0.2502534644451932}, {\"ntrees\": 58, \"variable\": \"val_RMSE\", \"value\": 0.25037901292737924}, {\"ntrees\": 59, \"variable\": \"val_RMSE\", \"value\": 0.2494187658020986}, {\"ntrees\": 60, \"variable\": \"val_RMSE\", \"value\": 0.24912540578160738}, {\"ntrees\": 61, \"variable\": \"val_RMSE\", \"value\": 0.25028729761719876}, {\"ntrees\": 62, \"variable\": \"val_RMSE\", \"value\": 0.25108740739994584}, {\"ntrees\": 63, \"variable\": \"val_RMSE\", \"value\": 0.2526309782267384}, {\"ntrees\": 64, \"variable\": \"val_RMSE\", \"value\": 0.25236669803557077}, {\"ntrees\": 65, \"variable\": \"val_RMSE\", \"value\": 0.2520125268552305}, {\"ntrees\": 66, \"variable\": \"val_RMSE\", \"value\": 0.2519253541577461}, {\"ntrees\": 67, \"variable\": \"val_RMSE\", \"value\": 0.25226229013044327}, {\"ntrees\": 68, \"variable\": \"val_RMSE\", \"value\": 0.2533025481635391}, {\"ntrees\": 69, \"variable\": \"val_RMSE\", \"value\": 0.25126625977013206}, {\"ntrees\": 70, \"variable\": \"val_RMSE\", \"value\": 0.2521989220261704}, {\"ntrees\": 71, \"variable\": \"val_RMSE\", \"value\": 0.25213092070226356}, {\"ntrees\": 72, \"variable\": \"val_RMSE\", \"value\": 0.2549272609645441}, {\"ntrees\": 73, \"variable\": \"val_RMSE\", \"value\": 0.2562678476536983}, {\"ntrees\": 74, \"variable\": \"val_RMSE\", \"value\": 0.25626925497298847}, {\"ntrees\": 75, \"variable\": \"val_RMSE\", \"value\": 0.25690734842120605}, {\"ntrees\": 76, \"variable\": \"val_RMSE\", \"value\": 0.25759223290767685}, {\"ntrees\": 77, \"variable\": \"val_RMSE\", \"value\": 0.25702701625814633}, {\"ntrees\": 78, \"variable\": \"val_RMSE\", \"value\": 0.25802961099170396}, {\"ntrees\": 79, \"variable\": \"val_RMSE\", \"value\": 0.2568108000190289}, {\"ntrees\": 80, \"variable\": \"val_RMSE\", \"value\": 0.2586629995965121}, {\"ntrees\": 81, \"variable\": \"val_RMSE\", \"value\": 0.25939872839101924}, {\"ntrees\": 82, \"variable\": \"val_RMSE\", \"value\": 0.2600175276952536}, {\"ntrees\": 83, \"variable\": \"val_RMSE\", \"value\": 0.2597323665470617}, {\"ntrees\": 84, \"variable\": \"val_RMSE\", \"value\": 0.26003460863665295}, {\"ntrees\": 85, \"variable\": \"val_RMSE\", \"value\": 0.26002340549573916}, {\"ntrees\": 86, \"variable\": \"val_RMSE\", \"value\": 0.26034634817996455}, {\"ntrees\": 87, \"variable\": \"val_RMSE\", \"value\": 0.2603978783128818}, {\"ntrees\": 88, \"variable\": \"val_RMSE\", \"value\": 0.2605639360834001}, {\"ntrees\": 89, \"variable\": \"val_RMSE\", \"value\": 0.26055024491335116}, {\"ntrees\": 90, \"variable\": \"val_RMSE\", \"value\": 0.2643049340941438}, {\"ntrees\": 91, \"variable\": \"val_RMSE\", \"value\": 0.26430872971613373}, {\"ntrees\": 92, \"variable\": \"val_RMSE\", \"value\": 0.26448417185457823}, {\"ntrees\": 93, \"variable\": \"val_RMSE\", \"value\": 0.26516112296170796}, {\"ntrees\": 94, \"variable\": \"val_RMSE\", \"value\": 0.2647286799483144}, {\"ntrees\": 95, \"variable\": \"val_RMSE\", \"value\": 0.2643515814475792}, {\"ntrees\": 96, \"variable\": \"val_RMSE\", \"value\": 0.2644554451805084}, {\"ntrees\": 97, \"variable\": \"val_RMSE\", \"value\": 0.2647301199254928}, {\"ntrees\": 98, \"variable\": \"val_RMSE\", \"value\": 0.2642696723721989}, {\"ntrees\": 99, \"variable\": \"val_RMSE\", \"value\": 0.2647223515136993}]}}, {\"mode\": \"vega-lite\"});\n",
       "</script>"
      ],
      "text/plain": [
       "alt.Chart(...)"
      ]
     },
     "execution_count": 77,
     "metadata": {},
     "output_type": "execute_result"
    }
   ],
   "source": [
    "source = pd.DataFrame({\"train_RMSE\":train_RMSEs,\"val_RMSE\":val_RMSEs, \"ntrees\":np.arange(len(val_RMSEs))}).melt(id_vars=['ntrees'])\n",
    "\n",
    "alt.Chart(source).mark_line().encode(\n",
    "    y = alt.Y(\"value:Q\", scale=alt.Scale(domain=[0.1, 0.3])),\n",
    "    x = 'ntrees',\n",
    "    color='variable'\n",
    ").properties(width=500)"
   ]
  },
  {
   "cell_type": "code",
   "execution_count": 78,
   "metadata": {},
   "outputs": [
    {
     "data": {
      "text/plain": [
       "Method\n",
       "Bagging (ntrees=100)         0.228411\n",
       "Bagging (ntrees=25)          0.230659\n",
       "Boosting (max_ntrees=100)    0.231759\n",
       "Bagging (ntrees=2)           0.251993\n",
       "Name: RMSE, dtype: float64"
      ]
     },
     "execution_count": 78,
     "metadata": {},
     "output_type": "execute_result"
    }
   ],
   "source": [
    "results.groupby('Method')['RMSE'].median().sort_values()"
   ]
  },
  {
   "cell_type": "code",
   "execution_count": 79,
   "metadata": {},
   "outputs": [
    {
     "data": {
      "text/plain": [
       "Method\n",
       "Bagging (ntrees=100)         0.228273\n",
       "Bagging (ntrees=25)          0.230299\n",
       "Boosting (max_ntrees=100)    0.240207\n",
       "Bagging (ntrees=2)           0.252247\n",
       "Name: RMSE, dtype: float64"
      ]
     },
     "execution_count": 79,
     "metadata": {},
     "output_type": "execute_result"
    }
   ],
   "source": [
    "results.groupby('Method')['RMSE'].mean().sort_values()"
   ]
  },
  {
   "cell_type": "code",
   "execution_count": 80,
   "metadata": {},
   "outputs": [
    {
     "data": {
      "text/plain": [
       "0.22761993672801914"
      ]
     },
     "execution_count": 80,
     "metadata": {},
     "output_type": "execute_result"
    }
   ],
   "source": [
    "np.mean(RMSEs)"
   ]
  },
  {
   "cell_type": "code",
   "execution_count": 81,
   "metadata": {},
   "outputs": [
    {
     "data": {
      "text/html": [
       "\n",
       "<div id=\"altair-viz-7a006e33838049838531f1ed929cc5da\"></div>\n",
       "<script type=\"text/javascript\">\n",
       "  (function(spec, embedOpt){\n",
       "    let outputDiv = document.currentScript.previousElementSibling;\n",
       "    if (outputDiv.id !== \"altair-viz-7a006e33838049838531f1ed929cc5da\") {\n",
       "      outputDiv = document.getElementById(\"altair-viz-7a006e33838049838531f1ed929cc5da\");\n",
       "    }\n",
       "    const paths = {\n",
       "      \"vega\": \"https://cdn.jsdelivr.net/npm//vega@5?noext\",\n",
       "      \"vega-lib\": \"https://cdn.jsdelivr.net/npm//vega-lib?noext\",\n",
       "      \"vega-lite\": \"https://cdn.jsdelivr.net/npm//vega-lite@4.8.1?noext\",\n",
       "      \"vega-embed\": \"https://cdn.jsdelivr.net/npm//vega-embed@6?noext\",\n",
       "    };\n",
       "\n",
       "    function loadScript(lib) {\n",
       "      return new Promise(function(resolve, reject) {\n",
       "        var s = document.createElement('script');\n",
       "        s.src = paths[lib];\n",
       "        s.async = true;\n",
       "        s.onload = () => resolve(paths[lib]);\n",
       "        s.onerror = () => reject(`Error loading script: ${paths[lib]}`);\n",
       "        document.getElementsByTagName(\"head\")[0].appendChild(s);\n",
       "      });\n",
       "    }\n",
       "\n",
       "    function showError(err) {\n",
       "      outputDiv.innerHTML = `<div class=\"error\" style=\"color:red;\">${err}</div>`;\n",
       "      throw err;\n",
       "    }\n",
       "\n",
       "    function displayChart(vegaEmbed) {\n",
       "      vegaEmbed(outputDiv, spec, embedOpt)\n",
       "        .catch(err => showError(`Javascript Error: ${err.message}<br>This usually means there's a typo in your chart specification. See the javascript console for the full traceback.`));\n",
       "    }\n",
       "\n",
       "    if(typeof define === \"function\" && define.amd) {\n",
       "      requirejs.config({paths});\n",
       "      require([\"vega-embed\"], displayChart, err => showError(`Error loading script: ${err.message}`));\n",
       "    } else if (typeof vegaEmbed === \"function\") {\n",
       "      displayChart(vegaEmbed);\n",
       "    } else {\n",
       "      loadScript(\"vega\")\n",
       "        .then(() => loadScript(\"vega-lite\"))\n",
       "        .then(() => loadScript(\"vega-embed\"))\n",
       "        .catch(showError)\n",
       "        .then(() => displayChart(vegaEmbed));\n",
       "    }\n",
       "  })({\"config\": {\"view\": {\"continuousWidth\": 400, \"continuousHeight\": 300}}, \"data\": {\"name\": \"data-a2b734d1fb0dd22d086cbf1a945d16fa\"}, \"mark\": \"boxplot\", \"encoding\": {\"x\": {\"type\": \"nominal\", \"field\": \"Method\"}, \"y\": {\"type\": \"quantitative\", \"field\": \"RMSE\", \"scale\": {\"domain\": [0.2, 0.3]}}}, \"width\": 300, \"$schema\": \"https://vega.github.io/schema/vega-lite/v4.8.1.json\", \"datasets\": {\"data-a2b734d1fb0dd22d086cbf1a945d16fa\": [{\"RMSE\": 0.2175785900040046, \"Method\": \"Bagging (ntrees=100)\"}, {\"RMSE\": 0.22849360650003506, \"Method\": \"Bagging (ntrees=100)\"}, {\"RMSE\": 0.22595828153447048, \"Method\": \"Bagging (ntrees=100)\"}, {\"RMSE\": 0.22372445349537376, \"Method\": \"Bagging (ntrees=100)\"}, {\"RMSE\": 0.2238362302481396, \"Method\": \"Bagging (ntrees=100)\"}, {\"RMSE\": 0.22898942366170605, \"Method\": \"Bagging (ntrees=100)\"}, {\"RMSE\": 0.23969715474540226, \"Method\": \"Bagging (ntrees=100)\"}, {\"RMSE\": 0.2269242624042964, \"Method\": \"Bagging (ntrees=100)\"}, {\"RMSE\": 0.22840405921933105, \"Method\": \"Bagging (ntrees=100)\"}, {\"RMSE\": 0.23475189336377425, \"Method\": \"Bagging (ntrees=100)\"}, {\"RMSE\": 0.2385876733964122, \"Method\": \"Bagging (ntrees=100)\"}, {\"RMSE\": 0.22588895400250866, \"Method\": \"Bagging (ntrees=100)\"}, {\"RMSE\": 0.22885248397971142, \"Method\": \"Bagging (ntrees=100)\"}, {\"RMSE\": 0.22952733345135254, \"Method\": \"Bagging (ntrees=100)\"}, {\"RMSE\": 0.22243843574897434, \"Method\": \"Bagging (ntrees=100)\"}, {\"RMSE\": 0.2258691591357795, \"Method\": \"Bagging (ntrees=100)\"}, {\"RMSE\": 0.2353235243019702, \"Method\": \"Bagging (ntrees=100)\"}, {\"RMSE\": 0.22393173617248974, \"Method\": \"Bagging (ntrees=100)\"}, {\"RMSE\": 0.22452614210088215, \"Method\": \"Bagging (ntrees=100)\"}, {\"RMSE\": 0.21922145382407401, \"Method\": \"Bagging (ntrees=100)\"}, {\"RMSE\": 0.22391646808140317, \"Method\": \"Bagging (ntrees=100)\"}, {\"RMSE\": 0.22796401131705593, \"Method\": \"Bagging (ntrees=100)\"}, {\"RMSE\": 0.23088456990212544, \"Method\": \"Bagging (ntrees=100)\"}, {\"RMSE\": 0.2282248433451042, \"Method\": \"Bagging (ntrees=100)\"}, {\"RMSE\": 0.22981901641430505, \"Method\": \"Bagging (ntrees=100)\"}, {\"RMSE\": 0.23467558721773263, \"Method\": \"Bagging (ntrees=100)\"}, {\"RMSE\": 0.2225439540051592, \"Method\": \"Bagging (ntrees=100)\"}, {\"RMSE\": 0.2291786306264589, \"Method\": \"Bagging (ntrees=100)\"}, {\"RMSE\": 0.23187886022098286, \"Method\": \"Bagging (ntrees=100)\"}, {\"RMSE\": 0.23664045324139907, \"Method\": \"Bagging (ntrees=100)\"}, {\"RMSE\": 0.23190161123749056, \"Method\": \"Bagging (ntrees=100)\"}, {\"RMSE\": 0.22348136141544162, \"Method\": \"Bagging (ntrees=100)\"}, {\"RMSE\": 0.22307959739131927, \"Method\": \"Bagging (ntrees=100)\"}, {\"RMSE\": 0.2288349092995019, \"Method\": \"Bagging (ntrees=100)\"}, {\"RMSE\": 0.2181249951474554, \"Method\": \"Bagging (ntrees=100)\"}, {\"RMSE\": 0.23292092849576596, \"Method\": \"Bagging (ntrees=100)\"}, {\"RMSE\": 0.23037226662709365, \"Method\": \"Bagging (ntrees=100)\"}, {\"RMSE\": 0.22344472098407198, \"Method\": \"Bagging (ntrees=100)\"}, {\"RMSE\": 0.22677966161553167, \"Method\": \"Bagging (ntrees=100)\"}, {\"RMSE\": 0.2437896717632309, \"Method\": \"Bagging (ntrees=100)\"}, {\"RMSE\": 0.22647111413749446, \"Method\": \"Bagging (ntrees=100)\"}, {\"RMSE\": 0.23200465197896988, \"Method\": \"Bagging (ntrees=100)\"}, {\"RMSE\": 0.2284174396458738, \"Method\": \"Bagging (ntrees=100)\"}, {\"RMSE\": 0.23206393538294642, \"Method\": \"Bagging (ntrees=100)\"}, {\"RMSE\": 0.22560415005205084, \"Method\": \"Bagging (ntrees=100)\"}, {\"RMSE\": 0.23130335758509984, \"Method\": \"Bagging (ntrees=100)\"}, {\"RMSE\": 0.23887430429588336, \"Method\": \"Bagging (ntrees=100)\"}, {\"RMSE\": 0.23338740105259867, \"Method\": \"Bagging (ntrees=100)\"}, {\"RMSE\": 0.21594482357339742, \"Method\": \"Bagging (ntrees=100)\"}, {\"RMSE\": 0.2186083720330562, \"Method\": \"Bagging (ntrees=100)\"}, {\"RMSE\": 0.2191396670933803, \"Method\": \"Bagging (ntrees=25)\"}, {\"RMSE\": 0.23067767302211423, \"Method\": \"Bagging (ntrees=25)\"}, {\"RMSE\": 0.23118613755005965, \"Method\": \"Bagging (ntrees=25)\"}, {\"RMSE\": 0.22466283012698718, \"Method\": \"Bagging (ntrees=25)\"}, {\"RMSE\": 0.2259815166983482, \"Method\": \"Bagging (ntrees=25)\"}, {\"RMSE\": 0.23296461604580487, \"Method\": \"Bagging (ntrees=25)\"}, {\"RMSE\": 0.23990028643075537, \"Method\": \"Bagging (ntrees=25)\"}, {\"RMSE\": 0.22564261003446065, \"Method\": \"Bagging (ntrees=25)\"}, {\"RMSE\": 0.23040243921285092, \"Method\": \"Bagging (ntrees=25)\"}, {\"RMSE\": 0.2354670641716751, \"Method\": \"Bagging (ntrees=25)\"}, {\"RMSE\": 0.23723843436723457, \"Method\": \"Bagging (ntrees=25)\"}, {\"RMSE\": 0.22850099061092674, \"Method\": \"Bagging (ntrees=25)\"}, {\"RMSE\": 0.2313029732792629, \"Method\": \"Bagging (ntrees=25)\"}, {\"RMSE\": 0.23104074824028664, \"Method\": \"Bagging (ntrees=25)\"}, {\"RMSE\": 0.22139099662265663, \"Method\": \"Bagging (ntrees=25)\"}, {\"RMSE\": 0.22909957936810404, \"Method\": \"Bagging (ntrees=25)\"}, {\"RMSE\": 0.2381944857158248, \"Method\": \"Bagging (ntrees=25)\"}, {\"RMSE\": 0.22668416567019742, \"Method\": \"Bagging (ntrees=25)\"}, {\"RMSE\": 0.22909723645886865, \"Method\": \"Bagging (ntrees=25)\"}, {\"RMSE\": 0.21853058551719579, \"Method\": \"Bagging (ntrees=25)\"}, {\"RMSE\": 0.2239254111667115, \"Method\": \"Bagging (ntrees=25)\"}, {\"RMSE\": 0.22867527668767504, \"Method\": \"Bagging (ntrees=25)\"}, {\"RMSE\": 0.23146040129697554, \"Method\": \"Bagging (ntrees=25)\"}, {\"RMSE\": 0.23134489004591638, \"Method\": \"Bagging (ntrees=25)\"}, {\"RMSE\": 0.2317216496110294, \"Method\": \"Bagging (ntrees=25)\"}, {\"RMSE\": 0.2370824393981614, \"Method\": \"Bagging (ntrees=25)\"}, {\"RMSE\": 0.22488333539433905, \"Method\": \"Bagging (ntrees=25)\"}, {\"RMSE\": 0.23552060207720424, \"Method\": \"Bagging (ntrees=25)\"}, {\"RMSE\": 0.23274338501045655, \"Method\": \"Bagging (ntrees=25)\"}, {\"RMSE\": 0.23552760881747917, \"Method\": \"Bagging (ntrees=25)\"}, {\"RMSE\": 0.23628474469315222, \"Method\": \"Bagging (ntrees=25)\"}, {\"RMSE\": 0.2306393471810665, \"Method\": \"Bagging (ntrees=25)\"}, {\"RMSE\": 0.2234817069885711, \"Method\": \"Bagging (ntrees=25)\"}, {\"RMSE\": 0.23030784773942475, \"Method\": \"Bagging (ntrees=25)\"}, {\"RMSE\": 0.22003525157343995, \"Method\": \"Bagging (ntrees=25)\"}, {\"RMSE\": 0.23684242290766658, \"Method\": \"Bagging (ntrees=25)\"}, {\"RMSE\": 0.23357071121014628, \"Method\": \"Bagging (ntrees=25)\"}, {\"RMSE\": 0.22481807869949835, \"Method\": \"Bagging (ntrees=25)\"}, {\"RMSE\": 0.22840210504083444, \"Method\": \"Bagging (ntrees=25)\"}, {\"RMSE\": 0.24758268456216234, \"Method\": \"Bagging (ntrees=25)\"}, {\"RMSE\": 0.22563995601360848, \"Method\": \"Bagging (ntrees=25)\"}, {\"RMSE\": 0.2388158021601216, \"Method\": \"Bagging (ntrees=25)\"}, {\"RMSE\": 0.23099074694677535, \"Method\": \"Bagging (ntrees=25)\"}, {\"RMSE\": 0.22776219926603272, \"Method\": \"Bagging (ntrees=25)\"}, {\"RMSE\": 0.22675572342773292, \"Method\": \"Bagging (ntrees=25)\"}, {\"RMSE\": 0.23335748294485875, \"Method\": \"Bagging (ntrees=25)\"}, {\"RMSE\": 0.24383680184784357, \"Method\": \"Bagging (ntrees=25)\"}, {\"RMSE\": 0.23676178551937901, \"Method\": \"Bagging (ntrees=25)\"}, {\"RMSE\": 0.2204300603322246, \"Method\": \"Bagging (ntrees=25)\"}, {\"RMSE\": 0.21865367246144846, \"Method\": \"Bagging (ntrees=25)\"}, {\"RMSE\": 0.2465254149921493, \"Method\": \"Bagging (ntrees=2)\"}, {\"RMSE\": 0.25533801932781486, \"Method\": \"Bagging (ntrees=2)\"}, {\"RMSE\": 0.24737864556970712, \"Method\": \"Bagging (ntrees=2)\"}, {\"RMSE\": 0.25440844436497334, \"Method\": \"Bagging (ntrees=2)\"}, {\"RMSE\": 0.24528927862807134, \"Method\": \"Bagging (ntrees=2)\"}, {\"RMSE\": 0.24898012308491924, \"Method\": \"Bagging (ntrees=2)\"}, {\"RMSE\": 0.280936700869609, \"Method\": \"Bagging (ntrees=2)\"}, {\"RMSE\": 0.25432851633598297, \"Method\": \"Bagging (ntrees=2)\"}, {\"RMSE\": 0.2544354911830738, \"Method\": \"Bagging (ntrees=2)\"}, {\"RMSE\": 0.2571438237323737, \"Method\": \"Bagging (ntrees=2)\"}, {\"RMSE\": 0.2680516246794789, \"Method\": \"Bagging (ntrees=2)\"}, {\"RMSE\": 0.2471115654315549, \"Method\": \"Bagging (ntrees=2)\"}, {\"RMSE\": 0.23776756485240794, \"Method\": \"Bagging (ntrees=2)\"}, {\"RMSE\": 0.2514909101900417, \"Method\": \"Bagging (ntrees=2)\"}, {\"RMSE\": 0.23718900627158182, \"Method\": \"Bagging (ntrees=2)\"}, {\"RMSE\": 0.2502953087840225, \"Method\": \"Bagging (ntrees=2)\"}, {\"RMSE\": 0.2491686705197907, \"Method\": \"Bagging (ntrees=2)\"}, {\"RMSE\": 0.24563954345887512, \"Method\": \"Bagging (ntrees=2)\"}, {\"RMSE\": 0.24830590956929444, \"Method\": \"Bagging (ntrees=2)\"}, {\"RMSE\": 0.24698022473683048, \"Method\": \"Bagging (ntrees=2)\"}, {\"RMSE\": 0.25548202967902545, \"Method\": \"Bagging (ntrees=2)\"}, {\"RMSE\": 0.2508150202406886, \"Method\": \"Bagging (ntrees=2)\"}, {\"RMSE\": 0.2654589535193247, \"Method\": \"Bagging (ntrees=2)\"}, {\"RMSE\": 0.25300223067823474, \"Method\": \"Bagging (ntrees=2)\"}, {\"RMSE\": 0.2596506994487767, \"Method\": \"Bagging (ntrees=2)\"}, {\"RMSE\": 0.2552456719108051, \"Method\": \"Bagging (ntrees=2)\"}, {\"RMSE\": 0.24385204995442464, \"Method\": \"Bagging (ntrees=2)\"}, {\"RMSE\": 0.2519477449429838, \"Method\": \"Bagging (ntrees=2)\"}, {\"RMSE\": 0.25834489097822505, \"Method\": \"Bagging (ntrees=2)\"}, {\"RMSE\": 0.25203857774950017, \"Method\": \"Bagging (ntrees=2)\"}, {\"RMSE\": 0.2528929887148422, \"Method\": \"Bagging (ntrees=2)\"}, {\"RMSE\": 0.2559909648215828, \"Method\": \"Bagging (ntrees=2)\"}, {\"RMSE\": 0.24224815033429706, \"Method\": \"Bagging (ntrees=2)\"}, {\"RMSE\": 0.25741416034099107, \"Method\": \"Bagging (ntrees=2)\"}, {\"RMSE\": 0.24000064586660189, \"Method\": \"Bagging (ntrees=2)\"}, {\"RMSE\": 0.2603534366885072, \"Method\": \"Bagging (ntrees=2)\"}, {\"RMSE\": 0.2517968319456562, \"Method\": \"Bagging (ntrees=2)\"}, {\"RMSE\": 0.2534666772947826, \"Method\": \"Bagging (ntrees=2)\"}, {\"RMSE\": 0.25419971599401986, \"Method\": \"Bagging (ntrees=2)\"}, {\"RMSE\": 0.2609662148331507, \"Method\": \"Bagging (ntrees=2)\"}, {\"RMSE\": 0.2501503727456703, \"Method\": \"Bagging (ntrees=2)\"}, {\"RMSE\": 0.25804643622502227, \"Method\": \"Bagging (ntrees=2)\"}, {\"RMSE\": 0.24909135335882437, \"Method\": \"Bagging (ntrees=2)\"}, {\"RMSE\": 0.2537240310659151, \"Method\": \"Bagging (ntrees=2)\"}, {\"RMSE\": 0.24957309142147535, \"Method\": \"Bagging (ntrees=2)\"}, {\"RMSE\": 0.243752433054408, \"Method\": \"Bagging (ntrees=2)\"}, {\"RMSE\": 0.27321391343080426, \"Method\": \"Bagging (ntrees=2)\"}, {\"RMSE\": 0.2569347600182562, \"Method\": \"Bagging (ntrees=2)\"}, {\"RMSE\": 0.24385720443320089, \"Method\": \"Bagging (ntrees=2)\"}, {\"RMSE\": 0.23207769761010494, \"Method\": \"Bagging (ntrees=2)\"}, {\"RMSE\": 0.2510510870023318, \"Method\": \"Boosting (max_ntrees=100)\"}, {\"RMSE\": 0.2711347120655744, \"Method\": \"Boosting (max_ntrees=100)\"}, {\"RMSE\": 0.2635236126192733, \"Method\": \"Boosting (max_ntrees=100)\"}, {\"RMSE\": 0.2654281987791592, \"Method\": \"Boosting (max_ntrees=100)\"}, {\"RMSE\": 0.2624458903329841, \"Method\": \"Boosting (max_ntrees=100)\"}, {\"RMSE\": 0.27981116820812685, \"Method\": \"Boosting (max_ntrees=100)\"}, {\"RMSE\": 0.27489172186714833, \"Method\": \"Boosting (max_ntrees=100)\"}, {\"RMSE\": 0.2536221226769034, \"Method\": \"Boosting (max_ntrees=100)\"}, {\"RMSE\": 0.25902056627051834, \"Method\": \"Boosting (max_ntrees=100)\"}, {\"RMSE\": 0.2615509796793073, \"Method\": \"Boosting (max_ntrees=100)\"}, {\"RMSE\": 0.26608842257055926, \"Method\": \"Boosting (max_ntrees=100)\"}, {\"RMSE\": 0.266597511184641, \"Method\": \"Boosting (max_ntrees=100)\"}, {\"RMSE\": 0.25240075364699005, \"Method\": \"Boosting (max_ntrees=100)\"}, {\"RMSE\": 0.27336417603058394, \"Method\": \"Boosting (max_ntrees=100)\"}, {\"RMSE\": 0.26356369774048344, \"Method\": \"Boosting (max_ntrees=100)\"}, {\"RMSE\": 0.26949076643182934, \"Method\": \"Boosting (max_ntrees=100)\"}, {\"RMSE\": 0.2669034502262835, \"Method\": \"Boosting (max_ntrees=100)\"}, {\"RMSE\": 0.2630048648598024, \"Method\": \"Boosting (max_ntrees=100)\"}, {\"RMSE\": 0.2608774964138862, \"Method\": \"Boosting (max_ntrees=100)\"}, {\"RMSE\": 0.2691583459747442, \"Method\": \"Boosting (max_ntrees=100)\"}, {\"RMSE\": 0.26263538208770765, \"Method\": \"Boosting (max_ntrees=100)\"}, {\"RMSE\": 0.2674297592667438, \"Method\": \"Boosting (max_ntrees=100)\"}, {\"RMSE\": 0.27115795068643866, \"Method\": \"Boosting (max_ntrees=100)\"}, {\"RMSE\": 0.26435919871501495, \"Method\": \"Boosting (max_ntrees=100)\"}, {\"RMSE\": 0.26675611392830006, \"Method\": \"Boosting (max_ntrees=100)\"}, {\"RMSE\": 0.28154160217364127, \"Method\": \"Boosting (max_ntrees=100)\"}, {\"RMSE\": 0.27472263762134863, \"Method\": \"Boosting (max_ntrees=100)\"}, {\"RMSE\": 0.26896133973252306, \"Method\": \"Boosting (max_ntrees=100)\"}, {\"RMSE\": 0.2650074540799631, \"Method\": \"Boosting (max_ntrees=100)\"}, {\"RMSE\": 0.2851355761529874, \"Method\": \"Boosting (max_ntrees=100)\"}, {\"RMSE\": 0.2616389771676623, \"Method\": \"Boosting (max_ntrees=100)\"}, {\"RMSE\": 0.26484804139956547, \"Method\": \"Boosting (max_ntrees=100)\"}, {\"RMSE\": 0.2573115576443015, \"Method\": \"Boosting (max_ntrees=100)\"}, {\"RMSE\": 0.2643227481043567, \"Method\": \"Boosting (max_ntrees=100)\"}, {\"RMSE\": 0.2503032031631465, \"Method\": \"Boosting (max_ntrees=100)\"}, {\"RMSE\": 0.2758211553590636, \"Method\": \"Boosting (max_ntrees=100)\"}, {\"RMSE\": 0.2712353812433191, \"Method\": \"Boosting (max_ntrees=100)\"}, {\"RMSE\": 0.2528143188952484, \"Method\": \"Boosting (max_ntrees=100)\"}, {\"RMSE\": 0.2733903078611964, \"Method\": \"Boosting (max_ntrees=100)\"}, {\"RMSE\": 0.28097428211335235, \"Method\": \"Boosting (max_ntrees=100)\"}, {\"RMSE\": 0.2584287557581343, \"Method\": \"Boosting (max_ntrees=100)\"}, {\"RMSE\": 0.2663316375647287, \"Method\": \"Boosting (max_ntrees=100)\"}, {\"RMSE\": 0.2575639424032825, \"Method\": \"Boosting (max_ntrees=100)\"}, {\"RMSE\": 0.2722849557097016, \"Method\": \"Boosting (max_ntrees=100)\"}, {\"RMSE\": 0.25243995408482733, \"Method\": \"Boosting (max_ntrees=100)\"}, {\"RMSE\": 0.2684288004517861, \"Method\": \"Boosting (max_ntrees=100)\"}, {\"RMSE\": 0.26388205061178927, \"Method\": \"Boosting (max_ntrees=100)\"}, {\"RMSE\": 0.26258235562427146, \"Method\": \"Boosting (max_ntrees=100)\"}, {\"RMSE\": 0.24779128705991035, \"Method\": \"Boosting (max_ntrees=100)\"}, {\"RMSE\": 0.2653881647519935, \"Method\": \"Boosting (max_ntrees=100)\"}, {\"RMSE\": 0.2171222409162828, \"Method\": \"Boosting (max_ntrees=100)\"}, {\"RMSE\": 0.229317479576057, \"Method\": \"Boosting (max_ntrees=100)\"}, {\"RMSE\": 0.2300314833218408, \"Method\": \"Boosting (max_ntrees=100)\"}, {\"RMSE\": 0.2159272241044745, \"Method\": \"Boosting (max_ntrees=100)\"}, {\"RMSE\": 0.2230451864721914, \"Method\": \"Boosting (max_ntrees=100)\"}, {\"RMSE\": 0.22492120849014904, \"Method\": \"Boosting (max_ntrees=100)\"}, {\"RMSE\": 0.23798666453431072, \"Method\": \"Boosting (max_ntrees=100)\"}, {\"RMSE\": 0.22472640516896564, \"Method\": \"Boosting (max_ntrees=100)\"}, {\"RMSE\": 0.2222799117469352, \"Method\": \"Boosting (max_ntrees=100)\"}, {\"RMSE\": 0.23122095466583842, \"Method\": \"Boosting (max_ntrees=100)\"}, {\"RMSE\": 0.2263651475698427, \"Method\": \"Boosting (max_ntrees=100)\"}, {\"RMSE\": 0.2262735109588698, \"Method\": \"Boosting (max_ntrees=100)\"}, {\"RMSE\": 0.22854023496845344, \"Method\": \"Boosting (max_ntrees=100)\"}, {\"RMSE\": 0.22567136231557292, \"Method\": \"Boosting (max_ntrees=100)\"}, {\"RMSE\": 0.21983993807825283, \"Method\": \"Boosting (max_ntrees=100)\"}, {\"RMSE\": 0.23079831291792266, \"Method\": \"Boosting (max_ntrees=100)\"}, {\"RMSE\": 0.22593427674063452, \"Method\": \"Boosting (max_ntrees=100)\"}, {\"RMSE\": 0.22680070345229322, \"Method\": \"Boosting (max_ntrees=100)\"}, {\"RMSE\": 0.22533482375332037, \"Method\": \"Boosting (max_ntrees=100)\"}, {\"RMSE\": 0.22342813417964602, \"Method\": \"Boosting (max_ntrees=100)\"}, {\"RMSE\": 0.23175878751294376, \"Method\": \"Boosting (max_ntrees=100)\"}, {\"RMSE\": 0.23595615118675237, \"Method\": \"Boosting (max_ntrees=100)\"}, {\"RMSE\": 0.2296598318365168, \"Method\": \"Boosting (max_ntrees=100)\"}, {\"RMSE\": 0.22758975909691562, \"Method\": \"Boosting (max_ntrees=100)\"}, {\"RMSE\": 0.2228900886770328, \"Method\": \"Boosting (max_ntrees=100)\"}, {\"RMSE\": 0.24414059289631176, \"Method\": \"Boosting (max_ntrees=100)\"}, {\"RMSE\": 0.22346361450543395, \"Method\": \"Boosting (max_ntrees=100)\"}, {\"RMSE\": 0.22584381975283072, \"Method\": \"Boosting (max_ntrees=100)\"}, {\"RMSE\": 0.2318522093697846, \"Method\": \"Boosting (max_ntrees=100)\"}, {\"RMSE\": 0.24165622537493742, \"Method\": \"Boosting (max_ntrees=100)\"}, {\"RMSE\": 0.22805194234918277, \"Method\": \"Boosting (max_ntrees=100)\"}, {\"RMSE\": 0.21917567195381238, \"Method\": \"Boosting (max_ntrees=100)\"}, {\"RMSE\": 0.22567904788766247, \"Method\": \"Boosting (max_ntrees=100)\"}, {\"RMSE\": 0.2299279699579699, \"Method\": \"Boosting (max_ntrees=100)\"}, {\"RMSE\": 0.22082077921777954, \"Method\": \"Boosting (max_ntrees=100)\"}, {\"RMSE\": 0.22132015756325268, \"Method\": \"Boosting (max_ntrees=100)\"}, {\"RMSE\": 0.23380101383062282, \"Method\": \"Boosting (max_ntrees=100)\"}, {\"RMSE\": 0.2231798753991582, \"Method\": \"Boosting (max_ntrees=100)\"}, {\"RMSE\": 0.21965356845903128, \"Method\": \"Boosting (max_ntrees=100)\"}, {\"RMSE\": 0.23896806603428217, \"Method\": \"Boosting (max_ntrees=100)\"}, {\"RMSE\": 0.23192022379616234, \"Method\": \"Boosting (max_ntrees=100)\"}, {\"RMSE\": 0.23698539391007173, \"Method\": \"Boosting (max_ntrees=100)\"}, {\"RMSE\": 0.22196283437006137, \"Method\": \"Boosting (max_ntrees=100)\"}, {\"RMSE\": 0.23472765013365743, \"Method\": \"Boosting (max_ntrees=100)\"}, {\"RMSE\": 0.22402214630416872, \"Method\": \"Boosting (max_ntrees=100)\"}, {\"RMSE\": 0.2341618696285981, \"Method\": \"Boosting (max_ntrees=100)\"}, {\"RMSE\": 0.23152411818426055, \"Method\": \"Boosting (max_ntrees=100)\"}, {\"RMSE\": 0.24070441472510531, \"Method\": \"Boosting (max_ntrees=100)\"}, {\"RMSE\": 0.2102086039940845, \"Method\": \"Boosting (max_ntrees=100)\"}, {\"RMSE\": 0.22349962217030328, \"Method\": \"Boosting (max_ntrees=100)\"}, {\"RMSE\": 0.21712224091628277, \"Method\": \"Boosting (max_ntrees=100)\"}, {\"RMSE\": 0.22931747957605697, \"Method\": \"Boosting (max_ntrees=100)\"}, {\"RMSE\": 0.23003148332184079, \"Method\": \"Boosting (max_ntrees=100)\"}, {\"RMSE\": 0.21592722410447454, \"Method\": \"Boosting (max_ntrees=100)\"}, {\"RMSE\": 0.22304518647219146, \"Method\": \"Boosting (max_ntrees=100)\"}, {\"RMSE\": 0.22492120849014904, \"Method\": \"Boosting (max_ntrees=100)\"}, {\"RMSE\": 0.23798666453431072, \"Method\": \"Boosting (max_ntrees=100)\"}, {\"RMSE\": 0.22472640516896564, \"Method\": \"Boosting (max_ntrees=100)\"}, {\"RMSE\": 0.22227991174693518, \"Method\": \"Boosting (max_ntrees=100)\"}, {\"RMSE\": 0.23122095466583842, \"Method\": \"Boosting (max_ntrees=100)\"}, {\"RMSE\": 0.2263651475698427, \"Method\": \"Boosting (max_ntrees=100)\"}, {\"RMSE\": 0.22627351095886983, \"Method\": \"Boosting (max_ntrees=100)\"}, {\"RMSE\": 0.22854023496845344, \"Method\": \"Boosting (max_ntrees=100)\"}, {\"RMSE\": 0.22567136231557292, \"Method\": \"Boosting (max_ntrees=100)\"}, {\"RMSE\": 0.21983993807825283, \"Method\": \"Boosting (max_ntrees=100)\"}, {\"RMSE\": 0.23079831291792263, \"Method\": \"Boosting (max_ntrees=100)\"}, {\"RMSE\": 0.22593427674063452, \"Method\": \"Boosting (max_ntrees=100)\"}, {\"RMSE\": 0.22680070345229322, \"Method\": \"Boosting (max_ntrees=100)\"}, {\"RMSE\": 0.22533482375332037, \"Method\": \"Boosting (max_ntrees=100)\"}, {\"RMSE\": 0.22342813417964605, \"Method\": \"Boosting (max_ntrees=100)\"}, {\"RMSE\": 0.23175878751294376, \"Method\": \"Boosting (max_ntrees=100)\"}, {\"RMSE\": 0.23595615118675237, \"Method\": \"Boosting (max_ntrees=100)\"}, {\"RMSE\": 0.2296598318365168, \"Method\": \"Boosting (max_ntrees=100)\"}, {\"RMSE\": 0.22758975909691564, \"Method\": \"Boosting (max_ntrees=100)\"}, {\"RMSE\": 0.2228900886770328, \"Method\": \"Boosting (max_ntrees=100)\"}, {\"RMSE\": 0.24414059289631176, \"Method\": \"Boosting (max_ntrees=100)\"}, {\"RMSE\": 0.22346361450543395, \"Method\": \"Boosting (max_ntrees=100)\"}, {\"RMSE\": 0.22584381975283072, \"Method\": \"Boosting (max_ntrees=100)\"}, {\"RMSE\": 0.2318522093697846, \"Method\": \"Boosting (max_ntrees=100)\"}, {\"RMSE\": 0.24165622537493742, \"Method\": \"Boosting (max_ntrees=100)\"}, {\"RMSE\": 0.2280519423491828, \"Method\": \"Boosting (max_ntrees=100)\"}, {\"RMSE\": 0.21917567195381235, \"Method\": \"Boosting (max_ntrees=100)\"}, {\"RMSE\": 0.2256790478876625, \"Method\": \"Boosting (max_ntrees=100)\"}, {\"RMSE\": 0.2299279699579699, \"Method\": \"Boosting (max_ntrees=100)\"}, {\"RMSE\": 0.2208207792177795, \"Method\": \"Boosting (max_ntrees=100)\"}, {\"RMSE\": 0.22164573995366735, \"Method\": \"Boosting (max_ntrees=100)\"}, {\"RMSE\": 0.23380101383062285, \"Method\": \"Boosting (max_ntrees=100)\"}, {\"RMSE\": 0.2231798753991582, \"Method\": \"Boosting (max_ntrees=100)\"}, {\"RMSE\": 0.21965356845903122, \"Method\": \"Boosting (max_ntrees=100)\"}, {\"RMSE\": 0.23896806603428214, \"Method\": \"Boosting (max_ntrees=100)\"}, {\"RMSE\": 0.23192022379616237, \"Method\": \"Boosting (max_ntrees=100)\"}, {\"RMSE\": 0.23698539391007173, \"Method\": \"Boosting (max_ntrees=100)\"}, {\"RMSE\": 0.22196283437006134, \"Method\": \"Boosting (max_ntrees=100)\"}, {\"RMSE\": 0.23472765013365743, \"Method\": \"Boosting (max_ntrees=100)\"}, {\"RMSE\": 0.2240221463041687, \"Method\": \"Boosting (max_ntrees=100)\"}, {\"RMSE\": 0.2341618696285981, \"Method\": \"Boosting (max_ntrees=100)\"}, {\"RMSE\": 0.23152411818426055, \"Method\": \"Boosting (max_ntrees=100)\"}, {\"RMSE\": 0.24070441472510531, \"Method\": \"Boosting (max_ntrees=100)\"}, {\"RMSE\": 0.21020860399408453, \"Method\": \"Boosting (max_ntrees=100)\"}, {\"RMSE\": 0.22349962217030328, \"Method\": \"Boosting (max_ntrees=100)\"}]}}, {\"mode\": \"vega-lite\"});\n",
       "</script>"
      ],
      "text/plain": [
       "alt.Chart(...)"
      ]
     },
     "execution_count": 81,
     "metadata": {},
     "output_type": "execute_result"
    }
   ],
   "source": [
    "import altair as alt\n",
    "\n",
    "alt.Chart(results).mark_boxplot().encode(\n",
    "    alt.Y(\"RMSE:Q\", scale=alt.Scale(domain=[0.2, 0.3])),\n",
    "    x='Method',\n",
    ").properties(width=300)"
   ]
  },
  {
   "cell_type": "markdown",
   "metadata": {},
   "source": [
    "**Problem 3.** How would you compare (using t-test) whether the boosting algorithm is better than bagging (ntrees=100)?"
   ]
  },
  {
   "cell_type": "code",
   "execution_count": 111,
   "metadata": {},
   "outputs": [
    {
     "data": {
      "text/html": [
       "<div>\n",
       "<style scoped>\n",
       "    .dataframe tbody tr th:only-of-type {\n",
       "        vertical-align: middle;\n",
       "    }\n",
       "\n",
       "    .dataframe tbody tr th {\n",
       "        vertical-align: top;\n",
       "    }\n",
       "\n",
       "    .dataframe thead th {\n",
       "        text-align: right;\n",
       "    }\n",
       "</style>\n",
       "<table border=\"1\" class=\"dataframe\">\n",
       "  <thead>\n",
       "    <tr style=\"text-align: right;\">\n",
       "      <th></th>\n",
       "      <th>RMSE</th>\n",
       "    </tr>\n",
       "    <tr>\n",
       "      <th>Method</th>\n",
       "      <th></th>\n",
       "    </tr>\n",
       "  </thead>\n",
       "  <tbody>\n",
       "    <tr>\n",
       "      <th>Bagging (ntrees=100)</th>\n",
       "      <td>0.228273</td>\n",
       "    </tr>\n",
       "    <tr>\n",
       "      <th>Bagging (ntrees=2)</th>\n",
       "      <td>0.252247</td>\n",
       "    </tr>\n",
       "    <tr>\n",
       "      <th>Bagging (ntrees=25)</th>\n",
       "      <td>0.230299</td>\n",
       "    </tr>\n",
       "    <tr>\n",
       "      <th>Boosting (max_ntrees=100)</th>\n",
       "      <td>0.240207</td>\n",
       "    </tr>\n",
       "  </tbody>\n",
       "</table>\n",
       "</div>"
      ],
      "text/plain": [
       "                               RMSE\n",
       "Method                             \n",
       "Bagging (ntrees=100)       0.228273\n",
       "Bagging (ntrees=2)         0.252247\n",
       "Bagging (ntrees=25)        0.230299\n",
       "Boosting (max_ntrees=100)  0.240207"
      ]
     },
     "execution_count": 111,
     "metadata": {},
     "output_type": "execute_result"
    }
   ],
   "source": [
    "results.groupby(\"Method\").mean()"
   ]
  },
  {
   "cell_type": "code",
   "execution_count": 110,
   "metadata": {},
   "outputs": [
    {
     "data": {
      "text/plain": [
       "Ttest_indResult(statistic=-4.2935874375414596, pvalue=2.7512590710967707e-05)"
      ]
     },
     "execution_count": 110,
     "metadata": {},
     "output_type": "execute_result"
    }
   ],
   "source": [
    "baggingResults = results[results[\"Method\"] == \"Bagging (ntrees=100)\"]\n",
    "boostingResults = results[results[\"Method\"] == \"Boosting (max_ntrees=100)\"]\n",
    "stats.stats.ttest_ind(baggingResults[\"RMSE\"], boostingResults[\"RMSE\"], equal_var=True)"
   ]
  },
  {
   "cell_type": "markdown",
   "metadata": {},
   "source": [
    "Response: The t test shows that there is a significant difference between the the bagging and boosting results. Since the average RMSE is lower on bagging, bagging was more accurate in this case."
   ]
  },
  {
   "cell_type": "markdown",
   "metadata": {},
   "source": [
    "**Upload your solution here:** https://canvas.calpoly.edu/courses/89325/assignments/594361"
   ]
  },
  {
   "cell_type": "code",
   "execution_count": 83,
   "metadata": {},
   "outputs": [],
   "source": [
    "# Good job!\n",
    "# Don't forget to push with ./submit.sh"
   ]
  },
  {
   "cell_type": "markdown",
   "metadata": {},
   "source": [
    "#### Having trouble with the test cases and the autograder?\n",
    "\n",
    "You can always load up the answers for the autograder. The autograder runs your code and compares your answer to the expected answer. I manually review your code, so there is no need to hide this from you.\n",
    "\n",
    "```python\n",
    "import joblib\n",
    "answers = joblib.load(f\"{home}/csc-466-student/tests/answers_Lab5.joblib\")\n",
    "answers.keys()\n",
    "```"
   ]
  }
 ],
 "metadata": {
  "kernelspec": {
   "display_name": "Python 3.10.6 ('Main10')",
   "language": "python",
   "name": "python3"
  },
  "language_info": {
   "codemirror_mode": {
    "name": "ipython",
    "version": 3
   },
   "file_extension": ".py",
   "mimetype": "text/x-python",
   "name": "python",
   "nbconvert_exporter": "python",
   "pygments_lexer": "ipython3",
   "version": "3.10.6"
  },
  "vscode": {
   "interpreter": {
    "hash": "40653dad27eb0252400c8e6bbf6cbe7329bda1d0b0ca7424b832f037e26face8"
   }
  }
 },
 "nbformat": 4,
 "nbformat_minor": 4
}
